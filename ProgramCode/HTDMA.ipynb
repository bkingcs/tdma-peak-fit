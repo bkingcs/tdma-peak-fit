{
 "cells": [
  {
   "cell_type": "markdown",
   "source": [
    "# HTDMA notes\n",
    "\n",
    "This file contains the important steps required for HTDMA\n",
    "\n",
    "### The aim:\n",
    "Kappa - a measure of a particles hygroscopicity, i.e. a particle's affinity for water.\n",
    "\n",
    "# DDD TODO\n",
    "\n",
    "---\n",
    "## DMA\n",
    "\n",
    "Here's a pretty good overview of how a DMA works\n",
    "\n",
    "http://www.cas.manchester.ac.uk/restools/instruments/aerosol/differential/"
   ],
   "metadata": {
    "collapsed": false,
    "pycharm": {
     "name": "#%% md\n"
    }
   }
  },
  {
   "cell_type": "code",
   "execution_count": 1,
   "outputs": [
    {
     "data": {
      "image/jpeg": "[encoded data removed]",
      "text/plain": "<IPython.core.display.Image object>"
     },
     "execution_count": 1,
     "metadata": {},
     "output_type": "execute_result"
    }
   ],
   "source": [
    "from IPython import display\n",
    "display.Image(\"http://www.cas.manchester.ac.uk/images/photos/instruments/DMA.jpg\")\n",
    "\n"
   ],
   "metadata": {
    "collapsed": false,
    "pycharm": {
     "name": "#%%\n"
    }
   }
  },
  {
   "cell_type": "markdown",
   "source": [
    "A DMA is founded in a certain physical property known as *electrical mobility*. From Wikipedia:\n",
    ">Electrical mobility is the ability of charged particles (such as electrons or protons) to move through a medium in response to an electric field that is pulling them.\n",
    "\n",
    "A DMA separates (sorts, classifies, etc.) particles by their *electrical mobility*, denoted as $Z_p$ in the literature. **We will try to stick with the same variable names in Python!**\n",
    "\n",
    "Electrical mobility, $Z_p$, is directly related to particle size, $d_p$; however, the transfer function to get $d_p$ from $Z_p$ is *not* straightforward, and has many, many variables at play."
   ],
   "metadata": {
    "collapsed": false,
    "pycharm": {
     "name": "#%% md\n"
    }
   }
  },
  {
   "cell_type": "markdown",
   "source": [
    "### Important variables\n",
    "\n",
    "The following is a list of the variables that the user will need to enter per experiment. It's quite possible that many of these will simply come from the file read in, and that we simply need to display the parameters for confirmation purposes.\n",
    "\n",
    "* $Z_p^\\star$ - center of electrical mobility - $cm^2/(V*sec)$\n",
    "    * (area per volt*time)\n",
    "* $\\Delta Z_p$ - The full width half height of the center of mobility\n",
    "\n",
    "Important variables needed to calculate electrical mobility\n",
    "\n",
    "* $Q_{sh}$ - The clean sheath air inlet flow rate (lpm)\n",
    "    * a.k.a. $Q_c$ in literature\n",
    "* $Q_{aIn}$  - Aerosol inlet flow rate. (lpm)\n",
    "    * DDD calls this the **polydisperse** flow in, a.k.a. $Q_a$\n",
    "* $V$ - Voltage (volts)\n",
    "    * This can range from 1-10000. Any range outside this should be flagged\n",
    "\n",
    "If we are running in **asymmetric** mode, then the user needs to enter these as well:\n",
    "* $Q_{excess}$ - Excess flow rate out. (lpm)\n",
    "    * In symmetric mode, this is the same as $Q_{sh}$.\n",
    "    * If asymmetric, then this needs to be specified.\n",
    "* $Q_{aOut}$ - The aerosol sampling outlet flow rate. (lpm)\n",
    "    * DDD calls this monodisperse flow out.\n",
    "    * Again, in symmetric mode, this is the same as $Q_{aIn}$. a.k.a $Q_s$\n",
    "\n",
    "DMA setup variables\n",
    "* $r_{in}$ - inner radius of the DMA charge rod (aka $r_1$) (cm)\n",
    "* $r_{out}$ - outer radius of the DMA housing (aka $r_2$) (cm)\n",
    "* $L$ - length of the DMA classification region (cm)\n",
    "\n",
    "Constraints / error checking\n",
    "\n",
    "* If symmetric, then $Q_{aIn} == Q_{aOut}$ and $Q_{sh} == Q_{excess}$\n",
    "* In all modes, $Q_{sh} + Q_{aIn} == Q_{excess} + Q_{aOut}$\n",
    "* V >= 1 && V <= 10000\n"
   ],
   "metadata": {
    "collapsed": false,
    "pycharm": {
     "name": "#%% md\n"
    }
   }
  },
  {
   "cell_type": "code",
   "execution_count": 2,
   "outputs": [],
   "source": [
    "# Experiment setup. Default will be symmetric flow rates\n",
    "Q_sh = 10.0             # Sheath in flow rate\n",
    "Q_aIn = 1.0             # Aerosol inlet flow (Polydisperse)\n",
    "V = 3500.0              # Volts (allow 1-10000, anything else should be flagged)\n",
    "\n",
    "IS_SYMMETRIC = True\n",
    "\n",
    "# If user chooses asymmetric flows then these two need to appear as well, otherwise, they are matched as indicated:\n",
    "if IS_SYMMETRIC:\n",
    "    Q_excess = Q_sh\n",
    "    Q_aOut = Q_aIn\n",
    "else:\n",
    "    # User will need to enter these if in asymmetric mode\n",
    "    Q_excess = 10.0\n",
    "    Q_aOut = 1.0"
   ],
   "metadata": {
    "collapsed": false,
    "pycharm": {
     "name": "#%%\n"
    }
   }
  },
  {
   "cell_type": "code",
   "execution_count": 3,
   "outputs": [],
   "source": [
    "def validate_setup():\n",
    "    \"\"\"\n",
    "    This function will validate all user entries before any analysis\n",
    "    is completed.\n",
    "\n",
    "    :raises: ValueError if any value is not correct\n",
    "\n",
    "    :return:\n",
    "    \"\"\"\n",
    "    if IS_SYMMETRIC:\n",
    "        if Q_aIn != Q_aOut or Q_sh != Q_excess:\n",
    "            raise ValueError(\"Symmetric flows not matching!\")\n",
    "    if Q_sh + Q_aIn != Q_excess + Q_aOut:\n",
    "        raise ValueError(\"Mismatched inlet and outlet flows!\")\n",
    "    if V < 1 or V > 10000:\n",
    "        raise ValueError(\"Voltage setting out of range\")\n",
    "\n",
    "validate_setup()"
   ],
   "metadata": {
    "collapsed": false,
    "pycharm": {
     "name": "#%%\n"
    }
   }
  },
  {
   "cell_type": "code",
   "execution_count": 4,
   "outputs": [],
   "source": [
    "# Advanced settings only. DMA parameters need to be specified.\n",
    "# These are obtained from Table 1 in Collins et al (2004) - \"The Scanning DMA Transfer Function.\n",
    "DMA_Length_cm = 44.44       # L in paper\n",
    "Radius_inner_cm = 0.937     # r1 in paper\n",
    "Radius_outer_cm = 1.958     # r2 in paper"
   ],
   "metadata": {
    "collapsed": false,
    "pycharm": {
     "name": "#%%\n"
    }
   }
  },
  {
   "cell_type": "markdown",
   "source": [
    "# Center of mobility (particle size)\n",
    "\n",
    "### Unit conversions\n",
    "\n",
    "It's important to note that the units are working in \"cgs\" i.e. cm/grams/sec\n",
    "\n",
    "* Flows need to be in cm^3/sec. This conversion is lpm*1000/60\n",
    "\n",
    "## Equations\n",
    "\n",
    "These equations are from Stolzenburg and McMurry (2008):\n",
    "\n",
    "### $Z_p^* = \\frac{Q_{sh} + Q_{excess}}{4 \\pi \\Delta \\phi}$\n",
    "\n",
    "### $\\Delta Z_p = Z_p^* \\frac{Q_{aIn} + Q_{aOut}}{Q_{sh} + Q_{excess}}$\n",
    "\n",
    "$\\Delta \\phi$ is defined as the change in the electrical flux from the aerosol inlet to the outlet for axial flow DMA:\n",
    "\n",
    "### $\\Delta \\phi = \\frac{LV}{ln(\\frac{r_2}{r_1})}$\n",
    "\n",
    "The electrical mobility, $Zp$ is related to particle diameter, $d_p$ by using Stokes' law, and is defined as follows:\n",
    "\n",
    "## $Z_p = \\frac{neC_c}{3 \\pi \\mu d_p}$\n",
    "\n",
    "Solving for $d_p$\n",
    "\n",
    "## $d_p = \\frac{neC_c}{3 \\pi \\mu Z_p}$\n",
    "\n",
    "where:\n",
    "* $n$ - number of elementary charge units\n",
    "  * The default is 1.\n",
    "  * 2 for two peaks.\n",
    "* $e$ - elementary unit of chart ($1.602 \\times 10^{-19}$ C)\n",
    "  *  C is a unit - Coulomb, which is always specified in M-kg-sec world. We work in cm-g-sec, so this value must be multiplied by $10^5$\n",
    "* $C_c$ - Cunningham slip correction factor\n",
    "  * def is 2\n",
    "* $\\mu$ - gas viscosity\n",
    "  * 0.00183 poise, or just p\n",
    "  * units = g/(cm * sec)\n",
    "\n",
    "This gives a result for $d_p$ in cm. So, must multiply by another $10^7$ to get nanometers.\n",
    "\n",
    "### Cunningham Slip Correction:\n",
    "\n",
    "The Cunningham slip correction factor is a function of the particle Knudsen number, $Kn$, and is defined as :\n",
    "\n",
    "$C_c = 1 + \\frac{\\lambda}{d_p}[2.34 + 1.05 exp(-0.39 * \\frac{d_p}{\\lambda} ]$\n",
    "\n",
    "where:\n",
    "* $\\lambda$ - the *mean free path* of a gas molecule and is $0.066$ $\\mu m$, or $6.64 e^{-6}$ cm. This value is dependent on temperature of 20 C and 1 atm.\n",
    "* $d_p$ - particle diameter\n",
    "\n",
    "\n",
    "\n"
   ],
   "metadata": {
    "collapsed": false,
    "pycharm": {
     "name": "#%% md\n"
    }
   }
  },
  {
   "cell_type": "markdown",
   "source": [
    "These equations are from Collins et al (2004) *The Scanning DMA Transfer Function*:\n",
    "\n",
    "$Z_p^* = \\frac{Q_{sh}ln\\frac{r_2}{r_1}}{2\\pi LV}$\n",
    "\n",
    "$\\Delta Z_p = Z_p^* \\frac{Q_a}{Q_{sh}}$\n",
    "\n",
    "## $Z_p$ to $d_p$"
   ],
   "metadata": {
    "collapsed": false,
    "pycharm": {
     "name": "#%% md\n"
    }
   }
  },
  {
   "cell_type": "code",
   "execution_count": 5,
   "outputs": [],
   "source": [
    "import numpy as np\n",
    "import scipy\n",
    "import pandas as pd\n",
    "import matplotlib as mpl\n",
    "import seaborn as sns\n",
    "import math"
   ],
   "metadata": {
    "collapsed": false,
    "pycharm": {
     "name": "#%%\n"
    }
   }
  },
  {
   "cell_type": "code",
   "execution_count": 6,
   "outputs": [],
   "source": [
    "def lpm_to_cm3_per_sec(lpm):\n",
    "    return lpm*1000/60\n",
    "\n",
    "def compute_Zp(Q_sh, Q_aIn, Q_excess, Q_aOut, V):\n",
    "    \"\"\"\n",
    "    Compute Zp - the center of electrical mobility, and the full width\n",
    "    half height value (fwhh)\n",
    "\n",
    "    All flows are specified in lpm\n",
    "\n",
    "    :param Q_sh:     Sheath inlet flow rate\n",
    "    :param Q_aIn:    Aerosol inlet (polydisperse) flow rate\n",
    "    :param Q_excess: Excess outlet flow out\n",
    "    :param Q_aOut:   Aerosol outlet (monodisperse) flow rate\n",
    "    :param V:        Voltage (V)\n",
    "\n",
    "    :return: (Zp, full_width_half_height)\n",
    "    \"\"\"\n",
    "    delta_axial = (DMA_Length_cm * V) / np.log(Radius_outer_cm/Radius_inner_cm)\n",
    "    Q_sh_corr = lpm_to_cm3_per_sec(Q_sh)\n",
    "    Q_excess_corr = lpm_to_cm3_per_sec(Q_excess)\n",
    "    Q_aIn_corr = lpm_to_cm3_per_sec(Q_aIn)\n",
    "    Q_aOut_corr = lpm_to_cm3_per_sec(Q_aOut)\n",
    "    Zp_center  = (Q_sh_corr + Q_excess_corr) / (4 * math.pi * delta_axial)\n",
    "    Zp_fwhh    = (Q_aIn_corr + Q_aOut_corr) / (Q_sh_corr + Q_excess_corr) * Zp_center\n",
    "    return (Zp_center, Zp_fwhh)"
   ],
   "metadata": {
    "collapsed": false,
    "pycharm": {
     "name": "#%%\n"
    }
   }
  },
  {
   "cell_type": "code",
   "execution_count": 7,
   "outputs": [],
   "source": [
    "# ELEM_CHARGE is the elementary charge of a particle in Columb.\n",
    "# Columb is in m-kg-sec, so multiply by 10e5 to get in our cm-g-sec\n",
    "ELEM_CHARGE = 1.602e-19 * 10e5\n",
    "\n",
    "# MU_GAS_VISCOSITY is normal air at 20 deg C and 1 atm\n",
    "# Specified in Poise, where P is g / (cm*sec)\n",
    "MU_GAS_VISCOSITY = 0.0001837\n",
    "\n",
    "def Zp_to_Dp(Zp,Cs = 2,n_ch = 1):\n",
    "    \"\"\"\n",
    "    This function computes the particle diameter Dp in nanometers from\n",
    "    electrical mobility Zp.\n",
    "\n",
    "    This calculation is all from DMA literature based on quite a number\n",
    "    of variables. However, what we're going to do is a bit of a\n",
    "    kludgy close approximation in the Cunningham slip correction, Cs.\n",
    "    It itself a function of Dp, thus making this equation rather\n",
    "    non-straightforward to compute.\n",
    "\n",
    "    :param Zp:      center of electrical mobility\n",
    "    :param Cs:      Cunningham slip correction\n",
    "    :param n_ch:    number of elementary charges on particle\n",
    "    :return:        The particle diameter Dp related to the specified Zp\n",
    "    \"\"\"\n",
    "\n",
    "    Dp = (n_ch * ELEM_CHARGE * Cs) / (3 * math.pi * MU_GAS_VISCOSITY * Zp)\n",
    "    Dp *= 10e7  # Convert from cm to nm\n",
    "    return Dp"
   ],
   "metadata": {
    "collapsed": false,
    "pycharm": {
     "name": "#%%\n"
    }
   }
  },
  {
   "cell_type": "code",
   "execution_count": 8,
   "outputs": [],
   "source": [
    "# lambda is the mean free path of a gas molecule, value is in nanometers\n",
    "MEAN_FREE_PATH_STP = 68  # nm at standard temp and 1 atm\n",
    "\n",
    "def Cunningham_slip_correction(dp):\n",
    "    \"\"\"\n",
    "    Compute the Cunningham slip correction factor based on a specified\n",
    "    particle diameter, dp, specified in nanometers.\n",
    "    \"\"\"\n",
    "\n",
    "    Cs = 1 + (MEAN_FREE_PATH_STP / dp) * \\\n",
    "         (2.34 + 1.05*math.exp(-0.39 * (dp/MEAN_FREE_PATH_STP)))\n",
    "    return Cs"
   ],
   "metadata": {
    "collapsed": false,
    "pycharm": {
     "name": "#%%\n"
    }
   }
  },
  {
   "cell_type": "code",
   "execution_count": 9,
   "outputs": [
    {
     "name": "stdout",
     "output_type": "stream",
     "text": [
      "Zp = 0.0001256873723407548, Zp_fwhh = 1.2568737234075483e-05\n",
      "Dp (init value, Cs = 2) = 147.23822622076216\n",
      "Cs (pass 1) = 2.2891158397403464\n",
      "Dp (pass 1) = 168.52267792860954\n",
      "Cs (pass 2) = 2.1053746198249286\n",
      "Dp (pass 2) = 154.995812276617\n",
      "Cs (pass 3) = 2.2159794621090114\n",
      "Dp (pass 3) = 163.13844267128474\n",
      "Cs (pass 4) = 2.147077900007681\n",
      "Dp (pass 4) = 158.06597077746497\n",
      "Cs (pass 5) = 2.1891200511839095\n",
      "Dp (pass 5) = 161.16107666031147\n",
      "Cs (pass 6) = 2.1631344108351676\n",
      "Dp (pass 6) = 159.24803686423175\n",
      "Cs (pass 7) = 2.1790698554034167\n",
      "Dp (pass 7) = 160.42119016036588\n",
      "Cs (pass 8) = 2.1692499917523684\n",
      "Dp (pass 8) = 159.69826050751084\n",
      "Cs (pass 9) = 2.1752832475128163\n",
      "Dp (pass 9) = 160.14242344576311\n",
      "Cs (pass 10) = 2.1715696421701494\n",
      "Dp (pass 10) = 159.869031113994\n"
     ]
    }
   ],
   "source": [
    "(Zp, Zp_fwhh) = compute_Zp(Q_sh,Q_aIn,Q_excess,Q_aOut,V)\n",
    "print(\"Zp = {}, Zp_fwhh = {}\".format(Zp,Zp_fwhh))\n",
    "\n",
    "Cs = 2  # Initial value for Cs\n",
    "dp = Zp_to_Dp(Zp,Cs=2)\n",
    "print(\"Dp (init value, Cs = 2) = {}\".format(dp))\n",
    "\n",
    "for i in range(10):\n",
    "    Cs = Cunningham_slip_correction(dp)\n",
    "    dp = Zp_to_Dp(Zp,Cs=Cs)\n",
    "    print(\"Cs (pass {}) = {}\".format(i+1,Cs))\n",
    "    print(\"Dp (pass {}) = {}\".format(i+1,dp))\n"
   ],
   "metadata": {
    "collapsed": false,
    "pycharm": {
     "name": "#%%\n"
    }
   }
  },
  {
   "cell_type": "code",
   "execution_count": null,
   "outputs": [],
   "source": [],
   "metadata": {
    "collapsed": false,
    "pycharm": {
     "name": "#%%\n"
    }
   }
  }
 ],
 "metadata": {
  "kernelspec": {
   "name": "pycharm-4a0ea780",
   "language": "python",
   "display_name": "PyCharm (HTDMA)"
  },
  "language_info": {
   "codemirror_mode": {
    "name": "ipython",
    "version": 2
   },
   "file_extension": ".py",
   "mimetype": "text/x-python",
   "name": "python",
   "nbconvert_exporter": "python",
   "pygments_lexer": "ipython2",
   "version": "2.7.6"
  }
 },
 "nbformat": 4,
 "nbformat_minor": 0
}