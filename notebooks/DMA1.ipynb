{
 "cells": [
  {
   "cell_type": "markdown",
   "metadata": {
    "pycharm": {
     "name": "#%% md\n"
    }
   },
   "source": [
    "# HTDMA notes\n",
    "\n",
    "This file contains the important steps required for HTDMA\n",
    "\n",
    "### The aim:\n",
    "Kappa - a measure of a particles hygroscopicity, i.e. a particle's affinity for water.\n",
    "\n",
    "# DDD TODO\n",
    "\n",
    "---\n",
    "## DMA\n",
    "\n",
    "Here's a pretty good overview of how a DMA works\n",
    "\n",
    "http://www.cas.manchester.ac.uk/restools/instruments/aerosol/differential/"
   ]
  },
  {
   "cell_type": "code",
   "execution_count": 14,
   "metadata": {
    "collapsed": false,
    "jupyter": {
     "outputs_hidden": false
    },
    "pycharm": {
     "name": "#%%\n"
    }
   },
   "outputs": [
    {
     "data": {
      "image/jpeg": "[encoded data removed]",
      "text/plain": [
       "<IPython.core.display.Image object>"
      ]
     },
     "execution_count": 14,
     "metadata": {},
     "output_type": "execute_result"
    }
   ],
   "source": [
    "import matplotlib.pyplot as plt\n",
    "from IPython import display\n",
    "from matplotlib.ticker import FormatStrFormatter\n",
    "\n",
    "display.Image(\"http://www.cas.manchester.ac.uk/images/photos/instruments/DMA.jpg\")\n",
    "\n"
   ]
  },
  {
   "cell_type": "markdown",
   "metadata": {
    "pycharm": {
     "name": "#%% md\n"
    }
   },
   "source": [
    "A DMA is founded in a certain physical property known as *electrical mobility*. From Wikipedia:\n",
    ">Electrical mobility is the ability of charged particles (such as electrons or protons) to move through a medium in response to an electric field that is pulling them.\n",
    "\n",
    "A DMA separates (sorts, classifies, etc.) particles by their *electrical mobility*, denoted as $Z_p$ in the literature. **We will try to stick with the same variable names in Python!**\n",
    "\n",
    "Electrical mobility, $Z_p$, is directly related to particle size, $d_p$; however, the transfer function to get $d_p$ from $Z_p$ is *not* straightforward, and has many, many variables at play."
   ]
  },
  {
   "cell_type": "markdown",
   "source": [
    "\n",
    "### Important variables\n",
    "\n",
    "The following is a list of the variables that the user will need to enter per experiment. It's quite possible that many of these will simply come from the file read in, and that we simply need to display the parameters for confirmation purposes.\n",
    "\n",
    "* $Z_p^\\star$ - center of electrical mobility - $cm^2/(V*sec)$\n",
    "    * (area per volt*time)\n",
    "* $\\Delta Z_p$ - The full width half height of the center of mobility. Basically, the width of the distribution at half of its height.\n",
    "\n",
    "Important variables needed to calculate electrical mobility\n",
    "\n",
    "* $Q_{sh}$ - The clean sheath air inlet flow rate (lpm)\n",
    "    * a.k.a. $Q_c$ in literature\n",
    "* $Q_{aIn}$  - Aerosol inlet flow rate. (lpm)\n",
    "    * DDD calls this the **polydisperse** flow in\n",
    "    * a.k.a. $Q_a$ in literature\n",
    "* $V$ - Voltage (volts)\n",
    "    * This can range from 1-10000. Any range outside this should be flagged\n",
    "\n",
    "If we are running in **asymmetric** mode, then the user needs to enter these as well:\n",
    "* $Q_{excess}$ - Excess flow rate out. (lpm)\n",
    "    * In symmetric mode, this is the same as $Q_{sh}$.\n",
    "    * If asymmetric, then this needs to be specified.\n",
    "    * a.k.a. $Q_e$ in literature\n",
    "* $Q_{aOut}$ - The aerosol sampling outlet flow rate. (lpm)\n",
    "    * DDD calls this monodisperse flow out.\n",
    "    * Again, in symmetric mode, this is the same as $Q_{aIn}$\n",
    "    * a.k.a $Q_s$ in literature\n",
    "\n",
    "DMA setup variables\n",
    "* $r_{in}$ - inner radius of the DMA charge rod (aka $r_1$) (cm)\n",
    "* $r_{out}$ - outer radius of the DMA housing (aka $r_2$) (cm)\n",
    "* $L$ - length of the DMA classification region (cm)\n",
    "\n",
    "Constraints / error checking\n",
    "\n",
    "* If symmetric, then $Q_{aIn} == Q_{aOut}$ and $Q_{sh} == Q_{excess}$\n",
    "* In all modes, $Q_{sh} + Q_{aIn} == Q_{excess} + Q_{aOut}$\n",
    "* V >= 1 && V <= 10000\n"
   ],
   "metadata": {
    "collapsed": false,
    "pycharm": {
     "name": "#%% md\n"
    }
   }
  },
  {
   "cell_type": "markdown",
   "source": [
    "# Data File Format\n",
    "\n",
    "In this section, I characterize the format of the data that is output by TSI's software\n",
    "\n",
    "### Run Variables\n",
    "\n",
    "Below are the variables that are output for each run. These never change between runs, and thus evey scan in a run will have these same settings.\n",
    "\n",
    "\n",
    "```\n",
    "(line 1) Classifier Model\t3080\n",
    "* DMA Model\t3081\n",
    "* DMA Inner Radius(cm)\t0.00937\n",
    "* DMA Outer Radius(cm)\t0.01961\n",
    "* DMA Characteristic Length(cm)\t0.44369\n",
    "* CPC Model\t3776 Low Flow\n",
    "* Reference Gas Viscosity (Pa*s)\t1.83245e-005\n",
    "* Reference Mean Free Path (m)\t6.73e-008\n",
    "* Reference Gas Temperature (K)\t296.15\n",
    "* Reference Gas Pressure (kPa)\t101.3\n",
    "* Channels/Decade\t64\n",
    "- Multiple Charge Correction\tTRUE\n",
    "- Nanoparticle Aggregate Mobility Analysis\tFALSE\n",
    "- Diffusion Correction\tTRUE\n",
    "* Gas Density\t0.0012\n",
    "- Units\tdw/dlogDp\n",
    "```\n",
    "\n",
    "### Scan data format\n",
    "\n",
    "The raw datafile has many individual scans per run. Below are a couple of scans taken from a typical run\n",
    "\n",
    "```\n",
    "Weight\tNumber\n",
    "Sample #\t1\t2\t...\n",
    "Date\t06/07/21\t06/07/21 ...\n",
    "Start Time\t14:16:57\t14:19:16\t...\n",
    "Diameter Midpoint\n",
    "8.20\t1.38628e+006\t359136\t...\n",
    "8.51\t931386\t133055\t...\n",
    "8.82\t418658\t867770\t...\n",
    "9.14\t582892\t932377\t...\n",
    "9.47\t872760\t1.10854e+006\t...\n",
    "9.82\t635978\t854641\t...\n",
    " 10.2\t830346\t875384 ...\n",
    " 10.6\t839626\t933159\t...\n",
    " 10.9\t732202\t781613\t...\n",
    " 11.3\t1.14583e+006\t895912\t...\n",
    " 11.8\t932533\t934757\t...\n",
    " 12.2\t876492\t797449\t...\n",
    " 12.6\t1.24262e+006\t1.12856e+006\t...\n",
    " 13.1\t1.21498e+006\t1.1466e+006\t1.31504e+006\t...\n",
    " 13.6\t1.15899e+006\t1.11361e+006\t...\n",
    " 14.1\t1.30868e+006\t1.18824e+006\t...\n",
    " 14.6\t1.06479e+006\t1.17743e+006\t...\n",
    " 15.1\t1.24293e+006\t1.48843e+006\t...\n",
    " 15.7\t1.57356e+006\t1.37312e+006\t...\n",
    " 16.3\t1.39319e+006\t1.55124e+006\t...\n",
    " 16.8\t1.49151e+006\t1.51485e+006\t...\n",
    " 17.5\t1.41537e+006\t1.75778e+006\t...\n",
    " 18.1\t1.54814e+006\t1.6494e+006\t...\n",
    " 18.8\t1.69995e+006\t1.63179e+006\t...\n",
    " 19.5\t1.70604e+006\t1.76166e+006\t...\n",
    " 20.2\t1.82198e+006\t1.83698e+006\t...\n",
    " 20.9\t1.90822e+006\t1.84821e+006\t...\n",
    " 21.7\t1.80402e+006\t1.78119e+006\t...\n",
    " 22.5\t1.87402e+006\t2.19793e+006\t...\n",
    " 23.3\t1.89541e+006\t2.10815e+006\t...\n",
    " 24.1\t2.10639e+006\t2.22377e+006\t...\n",
    " 25.0\t2.17907e+006\t2.12368e+006\t...\n",
    " ...\n",
    "310.6\t4736.35\t6841.28\t...\n",
    "322.0\t4751.55\t8021.07\t...\n",
    "333.8\t36664.5\t31891.3\t...\n",
    "```\n",
    "\n",
    "### Additional variables per scan\n",
    "\n",
    "These variables are stored for each scan, after all the conc data above.\n",
    "\n",
    "```\n",
    "- Scan Up Time(s)\t120\n",
    "- Retrace Time(s)\t15\n",
    "- Down Scan First\tFALSE\n",
    "- Scans Per Sample\t1\n",
    "- Impactor Type(cm)\t0.071\n",
    "* Sheath Flow(lpm)\t7.99998\n",
    "* Aerosol Flow(lpm)\t0.3\n",
    "* CPC Inlet Flow(lpm)\t0.3\n",
    "* CPC Sample Flow(lpm)\t0.05\n",
    "* Low Voltage\t10.0272\n",
    "* High Voltage\t9530.41\n",
    "* Lower Size(nm)\t8.05842\n",
    "* Upper Size(nm)\t339.821\n",
    "- Density(g/cc)\t1\n",
    "Title\n",
    "Status Flag\tNormal Scan\n",
    "- td(s)\t4.3\n",
    "- tf(s)\t2.99021\n",
    "- D50(nm)\t1415.69\n",
    "- Median(nm)\t33.4426\n",
    "- Mean(nm)\t39.529\n",
    "- Geo. Mean(nm)\t32.317\n",
    "- Mode(nm)\t35.8664\n",
    "- Geo. Std. Dev.\t1.90518\n",
    "* Total Concentration(#/cm�)\t1.85526e+006  CALL \"Number Conc (#/cm^3)\n",
    "Comment\n",
    "```"
   ],
   "metadata": {
    "collapsed": false,
    "pycharm": {
     "name": "#%% md\n"
    }
   }
  },
  {
   "cell_type": "code",
   "execution_count": 15,
   "metadata": {
    "collapsed": false,
    "jupyter": {
     "outputs_hidden": false
    },
    "pycharm": {
     "name": "#%%\n"
    }
   },
   "outputs": [],
   "source": [
    "# Experiment setup. Default will be symmetric flow rates\n",
    "Q_sh = 10.0             # Sheath in flow rate\n",
    "Q_aIn = 1.0             # Aerosol inlet flow (Polydisperse)\n",
    "V = 10000.0              # Volts (allow 1-10000, anything else should be flagged)\n",
    "\n",
    "IS_SYMMETRIC = True\n",
    "\n",
    "# If user chooses asymmetric flows then these two need to appear as well, otherwise, they are matched as indicated:\n",
    "if IS_SYMMETRIC:\n",
    "    Q_excess = Q_sh\n",
    "    Q_aOut = Q_aIn\n",
    "else:\n",
    "    # User will need to enter these if in asymmetric mode\n",
    "    Q_excess = 10.0\n",
    "    Q_aOut = 1.0"
   ]
  },
  {
   "cell_type": "code",
   "execution_count": 16,
   "metadata": {
    "collapsed": false,
    "jupyter": {
     "outputs_hidden": false
    },
    "pycharm": {
     "name": "#%%\n"
    }
   },
   "outputs": [],
   "source": [
    "def validate_setup():\n",
    "    \"\"\"\n",
    "    This function will validate all user entries before any analysis\n",
    "    is completed.\n",
    "\n",
    "    :raises: ValueError if any value is not correct\n",
    "\n",
    "    :return:\n",
    "    \"\"\"\n",
    "    if IS_SYMMETRIC:\n",
    "        if Q_aIn != Q_aOut or Q_sh != Q_excess:\n",
    "            raise ValueError(\"Symmetric flows not matching!\")\n",
    "    if Q_sh + Q_aIn != Q_excess + Q_aOut:\n",
    "        raise ValueError(\"Mismatched inlet and outlet flows!\")\n",
    "    if V < 1 or V > 10000:\n",
    "        raise ValueError(\"Voltage setting out of range\")\n",
    "\n",
    "validate_setup()"
   ]
  },
  {
   "cell_type": "code",
   "execution_count": 17,
   "metadata": {
    "collapsed": false,
    "jupyter": {
     "outputs_hidden": false
    },
    "pycharm": {
     "name": "#%%\n"
    }
   },
   "outputs": [],
   "source": [
    "# Advanced settings only. DMA parameters need to be specified.\n",
    "# These are obtained from Table 1 in Collins et al (2004) - \"The Scanning DMA Transfer Function.\n",
    "DMA_Length_cm = 44.44       # L in paper\n",
    "Radius_inner_cm = 0.937     # r1 in paper\n",
    "Radius_outer_cm = 1.958     # r2 in paper"
   ]
  },
  {
   "cell_type": "markdown",
   "metadata": {
    "pycharm": {
     "name": "#%% md\n"
    }
   },
   "source": [
    "# Center of mobility (particle size)\n",
    "\n",
    "### Unit conversions\n",
    "\n",
    "It's important to note that all units throughout are working in \"cgs\" i.e. cm/grams/sec\n",
    "\n",
    "* Flows need to be in cm^3/sec. This conversion is lpm*1000/60\n",
    "\n",
    "## Equations\n",
    "\n",
    "These equations are from Stolzenburg and McMurry (2008):\n",
    "\n",
    "### $Z_p^* = \\frac{Q_{sh} + Q_{excess}}{4 \\pi \\Delta \\phi}$\n",
    "\n",
    "### $\\Delta Z_p = Z_p^* \\frac{Q_{aIn} + Q_{aOut}}{Q_{sh} + Q_{excess}}$\n",
    "\n",
    "$\\Delta \\phi$ is defined as the change in the electrical flux from the aerosol inlet to the outlet for axial flow DMA:\n",
    "\n",
    "### $\\Delta \\phi = \\frac{LV}{ln(\\frac{r_2}{r_1})}$\n",
    "\n",
    "These values are defined by the actual physical characteristics of the DMA itself. The only real user-controlled parameter is the voltage, $V$.\n",
    "\n",
    "---\n",
    "### $Z_p$ to $d_p$\n",
    "\n",
    "The electrical mobility, $Zp$ is related to particle diameter, $d_p$ by using Stokes' law, and is defined as follows:\n",
    "\n",
    "## $Z_p = \\frac{neC_c}{3 \\pi \\mu d_p}$\n",
    "\n",
    "Solving for $d_p$ is very straightforward:\n",
    "\n",
    "## $d_p = \\frac{neC_c}{3 \\pi \\mu Z_p}$\n",
    "\n",
    "where:\n",
    "* $n$ - number of elementary charge units\n",
    "  * The default is 1.\n",
    "  * 2 for two peaks.\n",
    "  * USER ENTRY - depends on experiment\n",
    "* $e$ - elementary unit of charge ($1.602 \\times 10^{-19}$ C)\n",
    "  *  C is a unit - Coulomb, which is always specified in M-kg-sec world. We work in cm-g-sec, so this value must be multiplied by $10^5$\n",
    "  * This is a constant\n",
    "* $C_c$ - Cunningham slip correction factor\n",
    "  * _See below!_ This needs a separate explanation.\n",
    "* $\\mu$ - gas viscosity\n",
    "  * 0.00183 poise, or just p\n",
    "  * units = g/(cm * sec)\n",
    "\n",
    "This gives a result for $d_p$ in cm. So, must multiply by another $10^7$ to get nanometers.\n",
    "\n",
    "### Cunningham Slip Correction:\n",
    "\n",
    "The Cunningham slip correction factor is defined as :\n",
    "\n",
    "### $C_c = 1 + \\frac{\\lambda}{d_p}[2.34 + 1.05 exp(-0.39 * \\frac{d_p}{\\lambda})]$\n",
    "\n",
    "where:\n",
    "* $\\lambda$ - the *mean free path* of a gas molecule.\n",
    "  * It is $0.066$ $\\mu m$, or $6.64 e^{-6}$ cm.\n",
    "  * This value is dependent on temperature of 20 C and 1 atm and thus could be modeled more effectively (see below).\n",
    "* $d_p$ - particle diameter\n",
    "\n",
    "### Algorithm to find $d_p$ from $Z_p$\n",
    "\n",
    "The process of finding $d_p$ will be iterative. Choosing a *reasonable* first value at $C_c$ and then using that to solve for a first guess at $d_p$, then using that to solve for a better estimate for $d_p$, and so on until convergence.\n",
    "\n",
    "## Other equations\n",
    "\n",
    "### Gas viscosity\n",
    "\n",
    "http://hyperphysics.phy-astr.gsu.edu/hbase/Kinetic/visgas.html\n",
    "\n",
    "Gas viscosity can be modeled by Sutherland's formula:\n",
    "\n",
    "## $\\mu = \\mu_0 (\\frac{a}{b})[\\frac{T}{T_0}]^{1.5}$\n",
    "\n",
    "where:\n",
    "\n",
    "* $\\mu$ = viscosity in centiPoise at temp $T$\n",
    "* $\\mu_0$ = reference viscosity in centiPoise at reference temp $T_0$\n",
    "* $a = 0.555 T_0 + C$\n",
    "* $b = 0.555 T + C$\n",
    "* $T_0$ is the reference temp in Rankine\n",
    "* $T$ is the temp in Rankine\n",
    "* $C$ = Sutherland's Constant\n",
    "  * $C = 120$ for standard air at $T_0 = 524.07$ and $\\mu_0 = 0.01827$ centiPoise\n",
    "\n",
    "### Mean free path\n",
    "\n",
    "* https://goldbook.iupac.org/terms/view/M03778\n",
    "* https://science.widener.edu/~svanbram/chem332/pdf/menfpath.pdf\n",
    "* * https://www.pfeiffer-vacuum.com/en/know-how/introduction-to-vacuum-technology/fundamentals/mean-free-path/\n",
    "\n",
    ">This one is probably the toughest one to deal with. Just stick with the value that is read in from the TSI output data file.\n",
    "\n",
    "For a gas molecule:\n",
    "\n",
    "## $\\lambda = \\frac{1}{\\sqrt{2} n \\pi d^2}$\n",
    "\n",
    "where, following the standard ideal gas law, we can see that\n",
    "\n",
    "$n = \\frac{N}{V} = \\frac{p}{k_B T}$\n",
    "\n",
    "Putting it all together:\n",
    "\n",
    "This is the distance that a molecule travels between collisions\n",
    "\n",
    "## $\\lambda = \\frac{k_B T}{\\sqrt{2}  \\pi  p  d^2}$\n",
    "\n",
    "where:\n",
    "\n",
    "* $k_B$ - Boltzmann constant = $1.380649×10^{-23}$ Joule/degK\n",
    "* $T$ - Temperature (Kelvin)\n",
    "* $p$ - Pressure (pascals) (1 atm = 101325 pa = 101.325 kPa = 1013.25 mbar)\n",
    "* $d$ - molecular diameter\n",
    "\n",
    "This is far more than what I think we need to model. Most of the time, just use what is given in the TSI file\n",
    "\n",
    "#### Constants for Mean Free Path\n",
    "\n",
    "At 1 atm, the mean free path = 68 nm\n",
    "\n",
    "### Celsius to Rankine\n",
    "\n",
    "$T_R = T_C + 273.15 * 9/5$\n",
    "\n",
    "### Fahrenheit to Rankine\n",
    "\n",
    "$T_R = T_F + 459.67$"
   ]
  },
  {
   "cell_type": "code",
   "execution_count": 18,
   "metadata": {
    "collapsed": false,
    "jupyter": {
     "outputs_hidden": false
    },
    "pycharm": {
     "name": "#%%\n"
    }
   },
   "outputs": [],
   "source": [
    "import numpy as np\n",
    "import scipy\n",
    "import pandas as pd\n",
    "import matplotlib as mpl\n",
    "import seaborn as sns\n",
    "import math\n",
    "\n",
    "import sys\n",
    "sys.path.insert(1,'../model')\n",
    "from model import formulas"
   ]
  },
  {
   "cell_type": "code",
   "execution_count": 19,
   "metadata": {
    "collapsed": false,
    "jupyter": {
     "outputs_hidden": false
    },
    "pycharm": {
     "name": "#%%\n"
    }
   },
   "outputs": [
    {
     "name": "stdout",
     "output_type": "stream",
     "text": [
      "Zp = 4.399058031926418e-05, Zp_fwhh = 4.399058031926418e-06\n"
     ]
    }
   ],
   "source": [
    "\n",
    "(Zp, Zp_fwhh) = formulas.compute_Zp(Q_sh=Q_sh,\n",
    "                                    Q_aIn=Q_aIn,\n",
    "                                    Q_excess=Q_excess,\n",
    "                                    Q_aOut=Q_aOut,\n",
    "                                    V=V)\n",
    "print(\"Zp = {}, Zp_fwhh = {}\".format(Zp,Zp_fwhh))"
   ]
  },
  {
   "cell_type": "code",
   "execution_count": 20,
   "metadata": {
    "collapsed": false,
    "jupyter": {
     "outputs_hidden": false
    },
    "pycharm": {
     "name": "#%%\n"
    }
   },
   "outputs": [
    {
     "name": "stdout",
     "output_type": "stream",
     "text": [
      "Dp (init value of Cs = 2) = 321.7245477688485\n"
     ]
    }
   ],
   "source": [
    "Cs = 2  # Initial value for Cs\n",
    "dp = formulas.Zp_to_Dp(Zp,Cs=2)\n",
    "print(\"Dp (init value of Cs = 2) = {}\".format(dp))\n"
   ]
  },
  {
   "cell_type": "code",
   "execution_count": 9,
   "metadata": {
    "collapsed": false,
    "jupyter": {
     "outputs_hidden": false
    },
    "pycharm": {
     "name": "#%%\n"
    }
   },
   "outputs": [
    {
     "name": "stdout",
     "output_type": "stream",
     "text": [
      "Cs (pass 1) = 1.436892473250781\n",
      "Dp (pass 1) = 274.7603883524792\n",
      "Cs (pass 2) = 1.6328716213648953\n",
      "Dp (pass 2) = 312.2352223064768\n",
      "Cs (pass 3) = 1.547766163066854\n",
      "Dp (pass 3) = 295.96148630451756\n",
      "Cs (pass 4) = 1.5818230642378919\n",
      "Dp (pass 4) = 302.47379503049086\n",
      "Cs (pass 5) = 1.5677113074829438\n",
      "Dp (pass 5) = 299.7753664156111\n",
      "Cs (pass 6) = 1.573476997830519\n",
      "Dp (pass 6) = 300.87787293472167\n",
      "Cs (pass 7) = 1.5711075724997805\n",
      "Dp (pass 7) = 300.4247950349029\n",
      "Cs (pass 8) = 1.5720789836554225\n",
      "Dp (pass 8) = 300.6105467952766\n",
      "Cs (pass 1) = 1.3508844794422452\n",
      "Dp (pass 1) = 315.71719774957756\n",
      "Cs (pass 2) = 1.5409789779943686\n",
      "Dp (pass 2) = 360.14446248154565\n",
      "Cs (pass 3) = 1.4669514755998483\n",
      "Dp (pass 3) = 342.84338606230375\n",
      "Cs (pass 4) = 1.4932691131112077\n",
      "Dp (pass 4) = 348.99411981705543\n",
      "Cs (pass 5) = 1.4835830646079287\n",
      "Dp (pass 5) = 346.73037918100607\n",
      "Cs (pass 6) = 1.4871039005519335\n",
      "Dp (pass 6) = 347.5532389257832\n",
      "Cs (pass 7) = 1.4858182412471186\n",
      "Dp (pass 7) = 347.25276559948924\n",
      "Cs (pass 8) = 1.4862869305453823\n",
      "Dp (pass 8) = 347.3623036644496\n",
      "left: 300.534\n",
      "center: 321.725\n",
      "right: 347.322\n"
     ]
    }
   ],
   "source": [
    "# Get my points:\n",
    "\n",
    "# Compute the bottom points for the triangle. NOTE - electrical mobility\n",
    "# and dp have an inverse relationship. Thus, we are flipping these (i.e.\n",
    "# adding to the center to get the left, vice versa for right)\n",
    "dp_left_bottom = formulas.Zp_to_Dp(Zp+Zp_fwhh)\n",
    "dp_right_bottom = formulas.Zp_to_Dp(Zp-Zp_fwhh)\n",
    "\n",
    "print(\"left: {:.3f}\".format(dp_left_bottom))\n",
    "print(\"center: {:.3f}\".format(dp))\n",
    "print(\"right: {:.3f}\".format(dp_right_bottom))"
   ]
  },
  {
   "cell_type": "code",
   "execution_count": 101,
   "metadata": {
    "collapsed": false,
    "jupyter": {
     "outputs_hidden": false
    },
    "pycharm": {
     "name": "#%%\n"
    }
   },
   "outputs": [
    {
     "data": {
      "image/png": "[encoded data removed]",
      "text/plain": [
       "<Figure size 576x432 with 1 Axes>"
      ]
     },
     "metadata": {},
     "output_type": "display_data"
    }
   ],
   "source": [
    "fig = plt.figure(figsize=(8,6))\n",
    "ax = plt.axes()\n",
    "plt.style.use('seaborn-whitegrid')\n",
    "\n",
    "x = [dp_left_bottom,dp,dp_right_bottom]\n",
    "y = [0, 1, 0]\n",
    "# TODO - Fix the center height\n",
    "\n",
    "ax.set_xscale('log')\n",
    "ax.set_xlim(200,1000)\n",
    "ax.set_xticks(np.arange(200,1000,100))\n",
    "ax.xaxis.set_major_formatter(FormatStrFormatter('%.0f'))\n",
    "\n",
    "# TODO - Set \"Dp\" for x axis label\n",
    "ax.set_ylim(0,1)\n",
    "\n",
    "plt.title(\"DMA 1 theoretical distribution\")\n",
    "plt.plot(x,y)\n",
    "plt.grid(True)"
   ]
  },
  {
   "cell_type": "markdown",
   "metadata": {
    "pycharm": {
     "name": "#%% md\n"
    }
   },
   "source": [
    "---\n",
    "# Using the DMA_1 class"
   ]
  },
  {
   "cell_type": "code",
   "execution_count": null,
   "metadata": {
    "collapsed": false,
    "jupyter": {
     "outputs_hidden": false
    },
    "pycharm": {
     "name": "#%%\n"
    }
   },
   "outputs": [],
   "source": [
    "\n",
    "\n"
   ]
  }
 ],
 "metadata": {
  "kernelspec": {
   "display_name": "PyCharm (HTDMA)",
   "language": "python",
   "name": "pycharm-4a0ea780"
  },
  "language_info": {
   "codemirror_mode": {
    "name": "ipython",
    "version": 3
   },
   "file_extension": ".py",
   "mimetype": "text/x-python",
   "name": "python",
   "nbconvert_exporter": "python",
   "pygments_lexer": "ipython3",
   "version": "3.8.13"
  }
 },
 "nbformat": 4,
 "nbformat_minor": 4
}