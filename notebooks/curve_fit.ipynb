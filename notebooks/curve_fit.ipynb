{
 "cells": [
  {
   "cell_type": "markdown",
   "metadata": {
    "pycharm": {
     "name": "#%% md\n"
    }
   },
   "source": [
    "## TSI TDMA output file configuration\n",
    "\n",
    "**lines 1-18 : DMA standard configuration and experimental settings**\n",
    "\n",
    "This is general DMA information, including model info\n",
    "- 0\tSample File\tP:\\aerosols\\private\\Bret Hatzinger\\Summer Work 2021\\Internal Mixtures\\0.1gL AmmSulf_Sucrose Internal Mix (6_7_21)\\0.1gL AmmSulf_Sucrose Internal Mix (6_7_21).S80\n",
    "- 1\tClassifier Model\t3080\n",
    "- 2\tDMA Model\t3081\n",
    "- 3\t**DMA Inner Radius(cm)**\t0.00937\n",
    "- 4\t**DMA Outer Radius(cm)**\t0.01961\n",
    "- 5\t**DMA Characteristic Length(cm)**\t0.44369\n",
    "- 6\tCPC Model\t3776 Low Flow\n",
    "- 7\t**Reference Gas Viscosity (Pa*s)**\t1.83E-05\n",
    "- 8\t**Reference Mean Free Path (m)**\t6.73E-08\n",
    "- 9\t**Reference Gas Temperature (K)**\t296.15\n",
    "- 10\t**Reference Gas Pressure (kPa)**\t101.3\n",
    "- 11\tChannels/Decade\t64\n",
    "- 12\tMultiple Charge Correction\tTRUE\n",
    "- 13\tNanoparticle Aggregate Mobility Analysis\tFALSE\n",
    "- 14\tDiffusion Correction\tTRUE\n",
    "- 15\t**Gas Density**\t0.0012\n",
    "- 16\tUnits\tdw/dlogDp\n",
    "- 17\tWeight\tNumber\n",
    "\n",
    "**lines 19-126 : Actual data collected for multiple scans**\n",
    "- each row represents a dp midpoint value for the scan\n",
    "- the value represents the cpc counts for that bin\n",
    "\n",
    "Here are what the first several rows look like. The first three rows are the sample number and the time stamp for the scan. The fourth row is just a label for the remaining first column\n",
    "\n",
    "- 18\tSample #\t1\n",
    "- 19\tDate\t6/7/21\n",
    "- 20\tStart Time\t14:16:57\n",
    "- 21\tDiameter Midpoint\n",
    "- 22\t8.2\t1.39E+06\n",
    "- 23\t8.51\t931386\n",
    "- 24\t8.82\t418658\n",
    "- 25\t9.14\t582892\n",
    "\n",
    "**lines 127-151 : More experiment settings**\n",
    "\n",
    "The following are settings for the scanning DMA.\n",
    "\n",
    "- 126\t**Scan Up Time(s)**\t120\n",
    "- 127\t**Retrace Time(s)**\t15\n",
    "- 128\tDown Scan First\tFALSE\n",
    "- 129\tScans Per Sample\t1\n",
    "- 130\tImpactor Type(cm)\t0.071\n",
    "- 131\t**Sheath Flow(lpm)**\t7.99998\n",
    "- 132\t**Aerosol Flow(lpm)**\t0.3\n",
    "- 133\t**CPC Inlet Flow(lpm)**\t0.3\n",
    "- 134\tCPC Sample Flow(lpm)\t0.05\n",
    "- 135\t**Low Voltage**\t10.0272\n",
    "- 136\t**High Voltage**\t9530.41\n",
    "- 137\t**Lower Size(nm)**\t8.05842\n",
    "- 138\t**Upper Size(nm)**\t339.821\n",
    "- 139\tDensity(g/cc)\t1\n",
    "- 140\tTitle\n",
    "- 141\t**Status Flag**\tNormal Scan\n",
    "- 142\ttd(s)\t4.3\n",
    "- 143\ttf(s)\t2.99021\n",
    "- 144\tD50(nm)\t1415.69\n",
    "- 145\tMedian(nm)\t33.4426\n",
    "- 146\tMean(nm)\t39.529\n",
    "- 147\tGeo. Mean(nm)\t32.317\n",
    "- 148\tMode(nm)\t35.8664\n",
    "- 149\tGeo. Std. Dev.\t1.90518\n",
    "- 150\tTotal Concentration(#/cm≥)\t1.86E+06"
   ]
  },
  {
   "cell_type": "code",
   "execution_count": 2,
   "outputs": [],
   "source": [
    "import numpy as np\n",
    "import pandas as pd\n",
    "import scipy\n",
    "import matplotlib as mpl\n",
    "import matplotlib.pyplot as plt\n",
    "import datetime\n",
    "import seaborn as sns\n",
    "import sys\n",
    "import os"
   ],
   "metadata": {
    "collapsed": false,
    "pycharm": {
     "name": "#%%\n"
    }
   }
  },
  {
   "cell_type": "code",
   "execution_count": 3,
   "outputs": [],
   "source": [
    "# Add the path where all python *packages* are located\n",
    "#sys.path.insert(1, '../code/model/')\n",
    "\n",
    "from htdma_code.model.model import Model"
   ],
   "metadata": {
    "collapsed": false,
    "pycharm": {
     "name": "#%%\n"
    }
   }
  },
  {
   "cell_type": "code",
   "execution_count": 4,
   "outputs": [
    {
     "name": "stdout",
     "output_type": "stream",
     "text": [
      "C:\\Users\\brk009\\Documents\\PycharmProjects\\HTDMA\\notebooks\n"
     ]
    }
   ],
   "source": [
    "#os.chdir(\"/Users/brk009/PycharmProjects/ChemicsCurveFit\")\n",
    "print(os.getcwd())\n"
   ],
   "metadata": {
    "collapsed": false,
    "pycharm": {
     "name": "#%%\n"
    }
   }
  },
  {
   "cell_type": "code",
   "execution_count": 5,
   "metadata": {
    "pycharm": {
     "name": "#%%\n"
    }
   },
   "outputs": [],
   "source": [
    "#filename = \"../data/0.1gL AmmSulf_Sucrose Internal Mix (6_7_21).txt\"\n",
    "#filename = \"../data/A-Pinene Carene 100.100.200ppb (7.14.txt\"\n",
    "#filename = \"../data/HTDMA 0.1gL AmmSulf200nmPSL Sample Peaks.txt\"\n",
    "#filename = \"../data/20220621 data/0.1gL 25 AS_75 SA.txt\"\n",
    "filename = \"../data/20220621 data/0.1gL 50 AS_50 SA.txt\"\n",
    "#setup = model.Setup(filename)\n",
    "\n",
    "model = Model()\n",
    "model.process_new_file(filename)"
   ]
  },
  {
   "cell_type": "code",
   "execution_count": 6,
   "outputs": [
    {
     "name": "stdout",
     "output_type": "stream",
     "text": [
      "DMA:\n",
      "  r_in_cm: 0.937\n",
      "  r_out_cm: 1.961\n",
      "  length_cm: 44.369\n",
      "RunParams:\n",
      "  gas viscosity: 1.83245e-05\n",
      "  gas density: 0.0012\n",
      "  mean free path: 6.73e-08\n",
      "  temp (K): 296.15\n",
      "  pres (kPa): 101.3\n",
      "  rh (%): 85.0\n",
      "scan #: 1\n",
      "scan up (sec): 120.0\n",
      "scan down (sec): 15.0\n",
      "low V: 10.5317\n",
      "high V: 9962.35\n",
      "low dp: 10.7461\n",
      "high dp: 486.968\n",
      "q_sh_lpm (lpm): 5.0\n",
      "q_aIn_lpm (polydisperse) (lpm): 0.3\n",
      "q_aOut_lpm (monodisperse) (lpm): 0.3\n",
      "total conc: 23132.9\n",
      "STATUS: Normal Scan\n",
      "\n"
     ]
    }
   ],
   "source": [
    "print(model.setup)"
   ],
   "metadata": {
    "collapsed": false,
    "pycharm": {
     "name": "#%%\n"
    }
   }
  },
  {
   "cell_type": "code",
   "execution_count": 7,
   "metadata": {
    "pycharm": {
     "name": "#%%\n"
    }
   },
   "outputs": [
    {
     "name": "stdout",
     "output_type": "stream",
     "text": [
      "Scans:\n",
      "  Index: Index(['Date', ' 10.9', ' 11.3', ' 11.8', ' 12.2', ' 12.6', ' 13.1', ' 13.6',\n",
      "       ' 14.1', ' 14.6',\n",
      "       ...\n",
      "       'td(s)', 'tf(s)', 'D50(nm)', 'Median(nm)', 'Mean(nm)', 'Geo. Mean(nm)',\n",
      "       'Mode(nm)', 'Geo. Std. Dev.', 'Total Concentration(#/cm³)', 'Comment'],\n",
      "      dtype='object', name='Sample #', length=133)\n",
      "  Columns: Index(['1', '2', '3', '4', '5', '6', '7', '8', '9', '10', '11', '12', '13',\n",
      "       '14', '15', '16', '17', '18', '19', '20', '21'],\n",
      "      dtype='object')\n",
      "  Num Rows: 133\n",
      "  Num Cols: 21\n",
      "  Num dp values: 106\n",
      "\n"
     ]
    }
   ],
   "source": [
    "print(model.scans)"
   ]
  },
  {
   "cell_type": "markdown",
   "metadata": {
    "pycharm": {
     "name": "#%% md\n"
    }
   },
   "source": [
    "---\n",
    "# DMA 1"
   ]
  },
  {
   "cell_type": "code",
   "execution_count": 8,
   "outputs": [
    {
     "name": "stdout",
     "output_type": "stream",
     "text": [
      "q_sh_lineedit = 5.0 lpm 83.33 cm3/sec\n",
      "q_aIn_lineedit = 0.3 lpm 0.30 cm3/sec\n",
      "q_aOut_lineedit = 0.3 lpm 0.30 cm3/sec\n",
      "q_excess_lineedit = 5.0 lpm 83.33 cm3/sec\n",
      "gas viscosity = 0.0001832 Poise\n",
      "mean free path = 67.300 nm\n",
      "Voltage = 5000.0 V\n",
      "dp 320.5 nm\n",
      "WILL USE:\n",
      "dma1 length: 44.369 cm\n",
      "dma1 radius In 0.937 cm\n",
      "dma1 radius Out 1.961 cm\n",
      "\n"
     ]
    }
   ],
   "source": [
    "print(model.dma1)"
   ],
   "metadata": {
    "collapsed": false,
    "pycharm": {
     "name": "#%%\n"
    }
   }
  },
  {
   "cell_type": "code",
   "execution_count": 9,
   "outputs": [
    {
     "name": "stdout",
     "output_type": "stream",
     "text": [
      "q_sh_lineedit = 5.0 lpm 83.33 cm3/sec\n",
      "q_aIn_lineedit = 0.3 lpm 0.30 cm3/sec\n",
      "q_aOut_lineedit = 0.3 lpm 0.30 cm3/sec\n",
      "q_excess_lineedit = 5.0 lpm 83.33 cm3/sec\n",
      "gas viscosity = 0.0001832 Poise\n",
      "mean free path = 67.300 nm\n",
      "Voltage = 5000.0 V\n",
      "dp 320.5 nm\n",
      "WILL USE:\n",
      "dma1 length: 44.369 cm\n",
      "dma1 radius In 0.937 cm\n",
      "dma1 radius Out 1.961 cm\n",
      "\n"
     ]
    }
   ],
   "source": [
    "# Example of working with a DMA_1 object\n",
    "\n",
    "model.dma1.update_voltage(5000)\n",
    "print(model.dma1)"
   ],
   "metadata": {
    "collapsed": false,
    "pycharm": {
     "name": "#%%\n"
    }
   }
  },
  {
   "cell_type": "code",
   "execution_count": 10,
   "outputs": [
    {
     "name": "stdout",
     "output_type": "stream",
     "text": [
      "dp = 320.5\n"
     ]
    }
   ],
   "source": [
    "# When update is called, a new dp center and fwhh is computed\n",
    "\n",
    "print(\"dp = {:.1f}\".format(model.dma1.dp_dist_center))"
   ],
   "metadata": {
    "collapsed": false,
    "pycharm": {
     "name": "#%%\n"
    }
   }
  },
  {
   "cell_type": "code",
   "execution_count": 11,
   "outputs": [
    {
     "data": {
      "text/plain": "<Figure size 576x432 with 1 Axes>",
      "image/png": "[encoded data removed]"
     },
     "metadata": {},
     "output_type": "display_data"
    }
   ],
   "source": [
    "fig = plt.figure(figsize=(8, 6))\n",
    "ax = plt.axes()\n",
    "plt.style.use('seaborn-whitegrid')\n",
    "\n",
    "model.dma1.plot(ax)\n",
    "plt.show()"
   ],
   "metadata": {
    "collapsed": false,
    "pycharm": {
     "name": "#%%\n"
    }
   }
  },
  {
   "cell_type": "markdown",
   "source": [
    "---\n",
    "# DMA 2\n",
    "\n",
    "## Working with one scan"
   ],
   "metadata": {
    "collapsed": false,
    "pycharm": {
     "name": "#%% md\n"
    }
   }
  },
  {
   "cell_type": "code",
   "execution_count": 12,
   "outputs": [
    {
     "name": "stdout",
     "output_type": "stream",
     "text": [
      "current scan updated in model\n"
     ]
    }
   ],
   "source": [
    "# let's grab one sample from the file\n",
    "\n",
    "# sample_num represents the sample in the dataframe of all samples we'll extract\n",
    "scan_column = 0\n",
    "\n",
    "result = model.select_scan(scan_column)\n",
    "if result is False:\n",
    "    print(\"WOAH - bad scan_column value!\")\n",
    "else:\n",
    "    print(\"current scan updated in model\")"
   ],
   "metadata": {
    "collapsed": false,
    "pycharm": {
     "name": "#%%\n"
    }
   }
  },
  {
   "cell_type": "markdown",
   "metadata": {
    "pycharm": {
     "name": "#%% md\n"
    }
   },
   "source": [
    "### Graphing a single scan\n",
    "\n",
    "You'll notice that the data is very skewed when you do not properly map to logspace\n",
    "\n"
   ]
  },
  {
   "cell_type": "code",
   "execution_count": 13,
   "outputs": [
    {
     "data": {
      "text/plain": "<Figure size 720x432 with 1 Axes>",
      "image/png": "[encoded data removed]"
     },
     "metadata": {},
     "output_type": "display_data"
    }
   ],
   "source": [
    "fig = plt.figure(figsize=(10,6))\n",
    "ax = plt.axes()\n",
    "ax.bar(x=model.current_scan.get_dp_range(),\n",
    "       height=model.current_scan.get_values(),\n",
    "       fill=True)\n",
    "ax.set_xlim(5,800)\n",
    "\n",
    "plt.title(\"SMPS particle concentration (linear space)\")\n",
    "plt.show()\n"
   ],
   "metadata": {
    "collapsed": false,
    "pycharm": {
     "name": "#%%\n"
    }
   }
  },
  {
   "cell_type": "markdown",
   "metadata": {
    "pycharm": {
     "name": "#%% md\n"
    }
   },
   "source": [
    "Now, let's replot in log space"
   ]
  },
  {
   "cell_type": "code",
   "execution_count": 14,
   "metadata": {
    "pycharm": {
     "name": "#%%\n"
    }
   },
   "outputs": [
    {
     "data": {
      "text/plain": "<Figure size 720x432 with 1 Axes>",
      "image/png": "[encoded data removed]"
     },
     "metadata": {},
     "output_type": "display_data"
    }
   ],
   "source": [
    "# Let's redo that, but plot in log space\n",
    "\n",
    "fig = plt.figure(figsize=(10,6))\n",
    "ax = plt.axes()\n",
    "ax.set_xscale('log')\n",
    "ax.bar(x=model.current_scan.get_dp_range(),\n",
    "       height=model.current_scan.get_values(),\n",
    "       #width=1,\n",
    "       fill=True)\n",
    "ax.set_xlim(8,800)\n",
    "\n",
    "plt.title(\"SMPS particle concentration (log space)\")\n",
    "plt.show()"
   ]
  },
  {
   "cell_type": "code",
   "execution_count": 15,
   "metadata": {
    "pycharm": {
     "name": "#%%\n"
    }
   },
   "outputs": [
    {
     "data": {
      "text/plain": "<Figure size 720x432 with 1 Axes>",
      "image/png": "[encoded data removed]"
     },
     "metadata": {},
     "output_type": "display_data"
    }
   ],
   "source": [
    "# Plot as a line\n",
    "fig = plt.figure(figsize=(10,6))\n",
    "ax = plt.axes()\n",
    "\n",
    "ax.set_xscale('log')\n",
    "ax.plot(model.current_scan.get_dp_range(),\n",
    "        model.current_scan.get_values())\n",
    "plt.show()"
   ]
  },
  {
   "cell_type": "markdown",
   "metadata": {
    "pycharm": {
     "name": "#%% md\n"
    }
   },
   "source": [
    "---\n",
    "# Curve Fit\n",
    "\n",
    "Let's recall the standard normal distribution as defined by the quintessential probability density function:\n",
    "- https://en.wikipedia.org/wiki/Normal_distribution\n",
    "\n",
    "- $f(x) = \\frac{1}{\\sigma \\sqrt{2 \\pi}}e^{-\\frac{1}{2}(\\frac{x - \\mu}{\\sigma})^2}$\n",
    "\n",
    "I'm following lots of ideas online of basic gaussian curve fits\n",
    "\n",
    "- http://www.emilygraceripka.com/blog/16\n"
   ]
  },
  {
   "cell_type": "markdown",
   "metadata": {
    "pycharm": {
     "name": "#%% md\n"
    }
   },
   "source": [
    "The scipy package has a decent curve fit function.\n",
    "\n",
    "- https://docs.scipy.org/doc/scipy/reference/generated/scipy.optimize.curve_fit.html#scipy.optimize.curve_fit\n"
   ]
  },
  {
   "cell_type": "code",
   "execution_count": 16,
   "metadata": {
    "pycharm": {
     "name": "#%%\n"
    }
   },
   "outputs": [],
   "source": [
    "num_peaks = 2"
   ]
  },
  {
   "cell_type": "code",
   "execution_count": 17,
   "outputs": [],
   "source": [
    "from htdma_code.model.scan import calc_moving_ave\n",
    "\n",
    "xdata = model.current_scan.get_log_dp_range()\n",
    "ydata = model.current_scan._y_filtered\n",
    "ydata_smoothed = calc_moving_ave(ydata,3)\n"
   ],
   "metadata": {
    "collapsed": false,
    "pycharm": {
     "name": "#%%\n"
    }
   }
  },
  {
   "cell_type": "code",
   "execution_count": 18,
   "outputs": [
    {
     "data": {
      "text/plain": "array([    0.    ,     0.    ,     0.    ,     0.    ,     0.    ,\n           0.    ,     0.    ,     0.    ,     0.    ,   831.766 ,\n        2987.76  ,  4040.22  ,  8233.5   ,  7144.23  ,  5877.22  ,\n       11692.    , 13032.6   , 16458.6   , 18689.9   , 22603.7   ,\n       22694.    , 23720.8   , 33447.8   , 30412.7   , 37569.6   ,\n       38904.7   , 38571.7   , 37080.8   , 39384.1   , 40113.7   ,\n       39943.1   , 43254.7   , 39222.    , 40003.6   , 40863.9   ,\n       42535.3   , 39322.9   , 38493.7   , 37613.9   , 41012.2   ,\n       37515.5   , 38986.4   , 34190.7   , 33307.    , 32118.1   ,\n       29421.3   , 26862.    , 25327.9   , 26375.    , 22464.9   ,\n       25092.3   , 24362.9   , 20880.6   , 21281.3   , 18213.9   ,\n       17703.6   , 17447.2   , 16495.8   , 14853.8   , 14069.3   ,\n       12335.2   , 13118.8   , 11332.6   ,  9820.65  ,  9103.68  ,\n        9893.4   ,  7166.76  ,  6461.45  ,  5734.83  ,  5527.84  ,\n        4973.39  ,  3590.39  ,  3167.43  ,  2922.67  ,  2841.18  ,\n        2784.32  ,  2215.08  ,  1361.75  ,  1335.01  ,  1961.81  ,\n        1267.15  ,  1279.94  ,  1132.41  ,  1022.67  ,   882.887 ,\n         745.74  ,   964.14  ,   639.608 ,    94.6554,   344.383 ,\n         433.062 ,   355.943 ,   506.106 ,     0.    ,     0.    ,\n           0.    ,     0.    ,     0.    ,     0.    ,     0.    ,\n           0.    ,     0.    ,     0.    ,     0.    ,     0.    ,\n           0.    ])"
     },
     "execution_count": 18,
     "metadata": {},
     "output_type": "execute_result"
    }
   ],
   "source": [
    "ydata"
   ],
   "metadata": {
    "collapsed": false,
    "pycharm": {
     "name": "#%%\n"
    }
   }
  },
  {
   "cell_type": "code",
   "execution_count": 19,
   "outputs": [
    {
     "data": {
      "text/plain": "<matplotlib.collections.PathCollection at 0x2694c5fbe80>"
     },
     "execution_count": 19,
     "metadata": {},
     "output_type": "execute_result"
    },
    {
     "data": {
      "text/plain": "<Figure size 432x288 with 1 Axes>",
      "image/png": "[encoded data removed]"
     },
     "metadata": {},
     "output_type": "display_data"
    }
   ],
   "source": [
    "plt.scatter(xdata,ydata)"
   ],
   "metadata": {
    "collapsed": false,
    "pycharm": {
     "name": "#%%\n"
    }
   }
  },
  {
   "cell_type": "code",
   "execution_count": 20,
   "outputs": [
    {
     "data": {
      "text/plain": "array([34], dtype=int64)"
     },
     "execution_count": 20,
     "metadata": {},
     "output_type": "execute_result"
    }
   ],
   "source": [
    "import scipy.signal\n",
    "\n",
    "#i_pk = scipy.signal.find_peaks_cwt(ydata,widths=range(3,10))\n",
    "i_pk, _ = scipy.signal.find_peaks(ydata_smoothed,\n",
    "                                  # Vertical distance of the peak to neighbor samples\n",
    "                                  threshold=(0,(ydata.max()-ydata.min())/4),\n",
    "                                  # distance to neighbor peaks in samples\n",
    "                                  distance=10,\n",
    "                                  # width of the peak in samples\n",
    "                                  width=1,\n",
    "                                  # Relative height at which width is measured as a percentage of\n",
    "                                  # its prominence\n",
    "                                  rel_height=0.2,\n",
    "                                  # prominence of the peak\n",
    "                                  # - how much a peak stands out from the surrounding baseline\n",
    "                                  #   of the signal and is defined as the vertical distance between\n",
    "                                  #   the peak and its lowest contour line\n",
    "                                  prominence=((ydata.max() - ydata.min()) / 10,\n",
    "                                              (ydata.max() - ydata.min()))\n",
    "                                  )\n",
    "i_pk"
   ],
   "metadata": {
    "collapsed": false,
    "pycharm": {
     "name": "#%%\n"
    }
   }
  },
  {
   "cell_type": "code",
   "execution_count": 21,
   "outputs": [
    {
     "data": {
      "text/plain": "[34]"
     },
     "execution_count": 21,
     "metadata": {},
     "output_type": "execute_result"
    }
   ],
   "source": [
    "sorted(i_pk,key=lambda x: ydata[x],reverse=True)"
   ],
   "metadata": {
    "collapsed": false,
    "pycharm": {
     "name": "#%%\n"
    }
   }
  },
  {
   "cell_type": "code",
   "execution_count": 22,
   "outputs": [
    {
     "data": {
      "text/plain": "<matplotlib.collections.PathCollection at 0x2694c7afe50>"
     },
     "execution_count": 22,
     "metadata": {},
     "output_type": "execute_result"
    },
    {
     "data": {
      "text/plain": "<Figure size 432x288 with 1 Axes>",
      "image/png": "[encoded data removed]"
     },
     "metadata": {},
     "output_type": "display_data"
    }
   ],
   "source": [
    "fig, ax = plt.subplots()\n",
    "ax.plot(xdata,ydata)\n",
    "ax.scatter(xdata[i_pk],ydata[i_pk],c='r')\n"
   ],
   "metadata": {
    "collapsed": false,
    "pycharm": {
     "name": "#%%\n"
    }
   }
  },
  {
   "cell_type": "code",
   "execution_count": 23,
   "outputs": [
    {
     "name": "stderr",
     "output_type": "stream",
     "text": [
      "No artists with labels found to put in legend.  Note that artists whose label start with an underscore are ignored when legend() is called with no argument.\n"
     ]
    },
    {
     "name": "stdout",
     "output_type": "stream",
     "text": [
      "Starting fit\n",
      "xdata.shape = (106,)\n",
      "ydata.shape = (106,)\n",
      "xdata_width = 3.7814753614511534\n",
      "find_peaks found 1 peaks\n",
      "p0_init = [40863.9, 3.616308761279101, 0.18907376807255769]\n",
      "min bounds = [4086.3900000000003, 3.4272349932065436, 0.03781475361451153]\n",
      "max bounds = [61295.850000000006, 3.8053825293516588, 0.7562950722902307]\n",
      "Predicting 1 : parameters:\n",
      "0:\n",
      "  dp:     39.494\n",
      "  sd:     26.341\n",
      "  height: 53108.964\n",
      "  fwhh:   62.029\n",
      "  gf:     0.000\n",
      "  kappa:  0.000\n",
      "\n",
      "rmse: 28204.251\n",
      "Durbin-Watson: 0.362\n",
      "Generating plot...\n"
     ]
    },
    {
     "data": {
      "text/plain": "<Figure size 600x400 with 2 Axes>",
      "image/png": "[encoded data removed]"
     },
     "metadata": {},
     "output_type": "display_data"
    },
    {
     "name": "stdout",
     "output_type": "stream",
     "text": [
      "find_peaks found 2 peaks\n",
      "p0_init = [40863.9, 3.616308761279101, 0.18907376807255769]\n",
      "min bounds = [4086.3900000000003, 3.4272349932065436, 0.03781475361451153]\n",
      "max bounds = [61295.850000000006, 3.8053825293516588, 0.7562950722902307]\n",
      "p0_init = [0.0, 2.681021528714291, 0.18907376807255769]\n",
      "min bounds = [0.0, 1.92472645642406, 0.03781475361451153]\n",
      "max bounds = [0.0, 3.4373166010045217, 0.7562950722902307]\n"
     ]
    },
    {
     "ename": "ValueError",
     "evalue": "Each lower bound must be strictly less than each upper bound.",
     "output_type": "error",
     "traceback": [
      "\u001B[1;31m---------------------------------------------------------------------------\u001B[0m",
      "\u001B[1;31mValueError\u001B[0m                                Traceback (most recent call last)",
      "Input \u001B[1;32mIn [23]\u001B[0m, in \u001B[0;36m<cell line: 3>\u001B[1;34m()\u001B[0m\n\u001B[0;32m      1\u001B[0m \u001B[38;5;28;01mfrom\u001B[39;00m \u001B[38;5;21;01mhtdma_code\u001B[39;00m\u001B[38;5;21;01m.\u001B[39;00m\u001B[38;5;21;01mview\u001B[39;00m\u001B[38;5;21;01m.\u001B[39;00m\u001B[38;5;21;01mplot_utils\u001B[39;00m \u001B[38;5;28;01mimport\u001B[39;00m plot_scan_and_residuals\n\u001B[1;32m----> 3\u001B[0m \u001B[43mmodel\u001B[49m\u001B[38;5;241;43m.\u001B[39;49m\u001B[43mcurrent_scan\u001B[49m\u001B[38;5;241;43m.\u001B[39;49m\u001B[43mfit\u001B[49m\u001B[43m(\u001B[49m\u001B[43mnum_peaks_desired\u001B[49m\u001B[38;5;241;43m=\u001B[39;49m\u001B[43mnum_peaks\u001B[49m\u001B[43m,\u001B[49m\u001B[43mverbose\u001B[49m\u001B[38;5;241;43m=\u001B[39;49m\u001B[38;5;28;43;01mTrue\u001B[39;49;00m\u001B[43m,\u001B[49m\n\u001B[0;32m      4\u001B[0m \u001B[43m                       \u001B[49m\u001B[43mplot_steps\u001B[49m\u001B[43m \u001B[49m\u001B[38;5;241;43m=\u001B[39;49m\u001B[43m \u001B[49m\u001B[38;5;28;43;01mTrue\u001B[39;49;00m\u001B[43m,\u001B[49m\n\u001B[0;32m      5\u001B[0m \u001B[43m                       \u001B[49m\u001B[43mplot_func\u001B[49m\u001B[38;5;241;43m=\u001B[39;49m\u001B[43mplot_scan_and_residuals\u001B[49m\u001B[43m)\u001B[49m\n",
      "File \u001B[1;32m~\\Documents\\PycharmProjects\\HTDMA\\htdma_code\\model\\scan.py:354\u001B[0m, in \u001B[0;36mScan.fit\u001B[1;34m(self, num_peaks_desired, verbose, plot_steps, plot_func)\u001B[0m\n\u001B[0;32m    351\u001B[0m         \u001B[38;5;28mprint\u001B[39m(\u001B[38;5;124m\"\u001B[39m\u001B[38;5;124mmax bounds = \u001B[39m\u001B[38;5;132;01m{}\u001B[39;00m\u001B[38;5;124m\"\u001B[39m\u001B[38;5;241m.\u001B[39mformat(bounds[\u001B[38;5;241m1\u001B[39m][peak \u001B[38;5;241m*\u001B[39m \u001B[38;5;241m3\u001B[39m:(peak \u001B[38;5;241m+\u001B[39m \u001B[38;5;241m1\u001B[39m) \u001B[38;5;241m*\u001B[39m \u001B[38;5;241m3\u001B[39m]))\n\u001B[0;32m    353\u001B[0m \u001B[38;5;66;03m# Fit the desired number of peaks for this pass\u001B[39;00m\n\u001B[1;32m--> 354\u001B[0m popt, pcov \u001B[38;5;241m=\u001B[39m \u001B[43mscipy\u001B[49m\u001B[38;5;241;43m.\u001B[39;49m\u001B[43moptimize\u001B[49m\u001B[38;5;241;43m.\u001B[39;49m\u001B[43mcurve_fit\u001B[49m\u001B[43m(\u001B[49m\n\u001B[0;32m    355\u001B[0m \u001B[43m    \u001B[49m\u001B[43mfit_func\u001B[49m\u001B[43m,\u001B[49m\n\u001B[0;32m    356\u001B[0m \u001B[43m    \u001B[49m\u001B[43mxdata\u001B[49m\u001B[43m[\u001B[49m\u001B[43msel\u001B[49m\u001B[43m]\u001B[49m\u001B[43m,\u001B[49m\n\u001B[0;32m    357\u001B[0m \u001B[43m    \u001B[49m\u001B[43mydata_smoothed\u001B[49m\u001B[43m[\u001B[49m\u001B[43msel\u001B[49m\u001B[43m]\u001B[49m\u001B[43m,\u001B[49m\n\u001B[0;32m    358\u001B[0m \u001B[43m    \u001B[49m\u001B[43mp0\u001B[49m\u001B[38;5;241;43m=\u001B[39;49m\u001B[43mp0_init\u001B[49m\u001B[43m,\u001B[49m\n\u001B[0;32m    359\u001B[0m \u001B[43m    \u001B[49m\u001B[43mbounds\u001B[49m\u001B[38;5;241;43m=\u001B[39;49m\u001B[43mbounds\u001B[49m\n\u001B[0;32m    360\u001B[0m \u001B[43m\u001B[49m\u001B[43m)\u001B[49m\n\u001B[0;32m    361\u001B[0m \u001B[38;5;66;03m# perr_gauss = np.sqrt(np.diag(pcov_gauss))\u001B[39;00m\n\u001B[0;32m    362\u001B[0m \n\u001B[0;32m    363\u001B[0m \u001B[38;5;66;03m# Create the peak results object\u001B[39;00m\n\u001B[0;32m    364\u001B[0m \u001B[38;5;28;01mif\u001B[39;00m verbose:\n",
      "File \u001B[1;32m~\\Anaconda3\\envs\\HTDMA\\lib\\site-packages\\scipy\\optimize\\minpack.py:800\u001B[0m, in \u001B[0;36mcurve_fit\u001B[1;34m(f, xdata, ydata, p0, sigma, absolute_sigma, check_finite, bounds, method, jac, **kwargs)\u001B[0m\n\u001B[0;32m    797\u001B[0m \u001B[38;5;28;01mif\u001B[39;00m \u001B[38;5;124m'\u001B[39m\u001B[38;5;124mmax_nfev\u001B[39m\u001B[38;5;124m'\u001B[39m \u001B[38;5;129;01mnot\u001B[39;00m \u001B[38;5;129;01min\u001B[39;00m kwargs:\n\u001B[0;32m    798\u001B[0m     kwargs[\u001B[38;5;124m'\u001B[39m\u001B[38;5;124mmax_nfev\u001B[39m\u001B[38;5;124m'\u001B[39m] \u001B[38;5;241m=\u001B[39m kwargs\u001B[38;5;241m.\u001B[39mpop(\u001B[38;5;124m'\u001B[39m\u001B[38;5;124mmaxfev\u001B[39m\u001B[38;5;124m'\u001B[39m, \u001B[38;5;28;01mNone\u001B[39;00m)\n\u001B[1;32m--> 800\u001B[0m res \u001B[38;5;241m=\u001B[39m \u001B[43mleast_squares\u001B[49m\u001B[43m(\u001B[49m\u001B[43mfunc\u001B[49m\u001B[43m,\u001B[49m\u001B[43m \u001B[49m\u001B[43mp0\u001B[49m\u001B[43m,\u001B[49m\u001B[43m \u001B[49m\u001B[43mjac\u001B[49m\u001B[38;5;241;43m=\u001B[39;49m\u001B[43mjac\u001B[49m\u001B[43m,\u001B[49m\u001B[43m \u001B[49m\u001B[43mbounds\u001B[49m\u001B[38;5;241;43m=\u001B[39;49m\u001B[43mbounds\u001B[49m\u001B[43m,\u001B[49m\u001B[43m \u001B[49m\u001B[43mmethod\u001B[49m\u001B[38;5;241;43m=\u001B[39;49m\u001B[43mmethod\u001B[49m\u001B[43m,\u001B[49m\n\u001B[0;32m    801\u001B[0m \u001B[43m                    \u001B[49m\u001B[38;5;241;43m*\u001B[39;49m\u001B[38;5;241;43m*\u001B[39;49m\u001B[43mkwargs\u001B[49m\u001B[43m)\u001B[49m\n\u001B[0;32m    803\u001B[0m \u001B[38;5;28;01mif\u001B[39;00m \u001B[38;5;129;01mnot\u001B[39;00m res\u001B[38;5;241m.\u001B[39msuccess:\n\u001B[0;32m    804\u001B[0m     \u001B[38;5;28;01mraise\u001B[39;00m \u001B[38;5;167;01mRuntimeError\u001B[39;00m(\u001B[38;5;124m\"\u001B[39m\u001B[38;5;124mOptimal parameters not found: \u001B[39m\u001B[38;5;124m\"\u001B[39m \u001B[38;5;241m+\u001B[39m res\u001B[38;5;241m.\u001B[39mmessage)\n",
      "File \u001B[1;32m~\\Anaconda3\\envs\\HTDMA\\lib\\site-packages\\scipy\\optimize\\_lsq\\least_squares.py:804\u001B[0m, in \u001B[0;36mleast_squares\u001B[1;34m(fun, x0, jac, bounds, method, ftol, xtol, gtol, x_scale, loss, f_scale, diff_step, tr_solver, tr_options, jac_sparsity, max_nfev, verbose, args, kwargs)\u001B[0m\n\u001B[0;32m    801\u001B[0m     \u001B[38;5;28;01mraise\u001B[39;00m \u001B[38;5;167;01mValueError\u001B[39;00m(\u001B[38;5;124m\"\u001B[39m\u001B[38;5;124mInconsistent shapes between bounds and `x0`.\u001B[39m\u001B[38;5;124m\"\u001B[39m)\n\u001B[0;32m    803\u001B[0m \u001B[38;5;28;01mif\u001B[39;00m np\u001B[38;5;241m.\u001B[39many(lb \u001B[38;5;241m>\u001B[39m\u001B[38;5;241m=\u001B[39m ub):\n\u001B[1;32m--> 804\u001B[0m     \u001B[38;5;28;01mraise\u001B[39;00m \u001B[38;5;167;01mValueError\u001B[39;00m(\u001B[38;5;124m\"\u001B[39m\u001B[38;5;124mEach lower bound must be strictly less than each \u001B[39m\u001B[38;5;124m\"\u001B[39m\n\u001B[0;32m    805\u001B[0m                      \u001B[38;5;124m\"\u001B[39m\u001B[38;5;124mupper bound.\u001B[39m\u001B[38;5;124m\"\u001B[39m)\n\u001B[0;32m    807\u001B[0m \u001B[38;5;28;01mif\u001B[39;00m \u001B[38;5;129;01mnot\u001B[39;00m in_bounds(x0, lb, ub):\n\u001B[0;32m    808\u001B[0m     \u001B[38;5;28;01mraise\u001B[39;00m \u001B[38;5;167;01mValueError\u001B[39;00m(\u001B[38;5;124m\"\u001B[39m\u001B[38;5;124m`x0` is infeasible.\u001B[39m\u001B[38;5;124m\"\u001B[39m)\n",
      "\u001B[1;31mValueError\u001B[0m: Each lower bound must be strictly less than each upper bound."
     ]
    }
   ],
   "source": [
    "from htdma_code.view.plot_utils import plot_scan_and_residuals\n",
    "\n",
    "model.current_scan.fit(num_peaks_desired=num_peaks,verbose=True,\n",
    "                       plot_steps = True,\n",
    "                       plot_func=plot_scan_and_residuals)\n",
    "#plt.show()"
   ],
   "metadata": {
    "collapsed": false,
    "pycharm": {
     "name": "#%%\n"
    }
   }
  },
  {
   "cell_type": "markdown",
   "source": [
    "## Study of residuals\n",
    "\n",
    "Clearly, the residual plot can be used to help identify whether there is a subtle shoulder."
   ],
   "metadata": {
    "collapsed": false,
    "pycharm": {
     "name": "#%% md\n"
    }
   }
  },
  {
   "cell_type": "code",
   "execution_count": 28,
   "outputs": [
    {
     "data": {
      "text/plain": "[48]"
     },
     "metadata": {},
     "output_type": "display_data"
    },
    {
     "data": {
      "text/plain": "{'left_thresholds': array([2161.88320851]),\n 'right_thresholds': array([1514.51846027]),\n 'prominences': array([34751.67807313]),\n 'left_bases': array([37], dtype=int64),\n 'right_bases': array([59], dtype=int64),\n 'widths': array([4.94780255]),\n 'width_heights': array([15422.89839556]),\n 'left_ips': array([45.59887281]),\n 'right_ips': array([50.54667536])}"
     },
     "metadata": {},
     "output_type": "display_data"
    }
   ],
   "source": [
    "from htdma_code.model.scan import predict_peaks\n",
    "\n",
    "ydata = model.current_scan.total_fit_result.residuals_smoothed\n",
    "\n",
    "# i_pk = predict_peaks(model.current_scan.total_fit_result.residuals,is_scan=False)\n",
    "\n",
    "ydata = np.multiply(ydata,-1.0)\n",
    "# ydata = np.convolve(ydata,np.ones(3),'valid')/3\n",
    "# ydata = np.append([0],ydata)\n",
    "# ydata = np.append(ydata,[0])\n",
    "\n",
    "i_pk, other = scipy.signal.find_peaks(ydata,\n",
    "                                  threshold=(0,(ydata.max()-ydata.min())/4),  # Vertical distance to neighbor samples- we want it close!\n",
    "                                  distance=10, # distance to neighbor peaks\n",
    "                                  width=3, # width of the peak in samples\n",
    "                                  rel_height = 0.2,\n",
    "        prominence = ((ydata.max() - ydata.min()) / 20,\n",
    "                      (ydata.max() - ydata.min()))\n",
    "                                      )\n",
    "\n",
    "i_pk = sorted(i_pk, key=lambda x: ydata[x],reverse=True)\n",
    "ydata = model.current_scan.total_fit_result.residuals\n",
    "\n",
    "display(i_pk)\n",
    "display(other)"
   ],
   "metadata": {
    "collapsed": false,
    "pycharm": {
     "name": "#%%\n"
    }
   }
  },
  {
   "cell_type": "code",
   "execution_count": 29,
   "outputs": [
    {
     "data": {
      "text/plain": "<matplotlib.collections.PathCollection at 0x1e899951bb0>"
     },
     "execution_count": 29,
     "metadata": {},
     "output_type": "execute_result"
    },
    {
     "data": {
      "text/plain": "<Figure size 432x288 with 1 Axes>",
      "image/png": "[encoded data removed]"
     },
     "metadata": {},
     "output_type": "display_data"
    }
   ],
   "source": [
    "fig, ax = plt.subplots()\n",
    "ax.plot(xdata,ydata)\n",
    "ax.scatter(xdata[i_pk],ydata[i_pk],c='r')"
   ],
   "metadata": {
    "collapsed": false,
    "pycharm": {
     "name": "#%%\n"
    }
   }
  },
  {
   "cell_type": "markdown",
   "source": [
    "---\n",
    "\n",
    "# TODO\n",
    "\n",
    "I think I have a good fit algorithm. Look at the narrow peak RMSE value I created in scan.py inside the fit....\n",
    "\n",
    "This is basically choosing to compute RMSE only +/- 1 s.d. around each peak mean\n",
    "\n",
    "---"
   ],
   "metadata": {
    "collapsed": false,
    "pycharm": {
     "name": "#%% md\n"
    }
   }
  },
  {
   "cell_type": "code",
   "execution_count": 25,
   "outputs": [
    {
     "name": "stdout",
     "output_type": "stream",
     "text": [
      "2\n"
     ]
    },
    {
     "data": {
      "text/plain": "array([ 87.20504968, 143.57599491])"
     },
     "execution_count": 25,
     "metadata": {},
     "output_type": "execute_result"
    }
   ],
   "source": [
    "model.current_scan.get_fit_peak_dp()"
   ],
   "metadata": {
    "collapsed": false,
    "pycharm": {
     "name": "#%%\n"
    }
   }
  },
  {
   "cell_type": "code",
   "execution_count": 36,
   "outputs": [
    {
     "ename": "TypeError",
     "evalue": "plot() missing 2 required positional arguments: 'ax_data' and 'ax_residuals'",
     "output_type": "error",
     "traceback": [
      "\u001B[1;31m---------------------------------------------------------------------------\u001B[0m",
      "\u001B[1;31mTypeError\u001B[0m                                 Traceback (most recent call last)",
      "\u001B[1;32m<ipython-input-36-ad61c8b4e967>\u001B[0m in \u001B[0;36m<module>\u001B[1;34m\u001B[0m\n\u001B[1;32m----> 1\u001B[1;33m \u001B[0mfig\u001B[0m\u001B[1;33m,\u001B[0m \u001B[0max\u001B[0m \u001B[1;33m=\u001B[0m \u001B[0mmodel\u001B[0m\u001B[1;33m.\u001B[0m\u001B[0mcurrent_scan\u001B[0m\u001B[1;33m.\u001B[0m\u001B[0mplot\u001B[0m\u001B[1;33m(\u001B[0m\u001B[1;33m)\u001B[0m\u001B[1;33m\u001B[0m\u001B[1;33m\u001B[0m\u001B[0m\n\u001B[0m\u001B[0;32m      2\u001B[0m \u001B[0mplt\u001B[0m\u001B[1;33m.\u001B[0m\u001B[0mshow\u001B[0m\u001B[1;33m(\u001B[0m\u001B[1;33m)\u001B[0m\u001B[1;33m\u001B[0m\u001B[1;33m\u001B[0m\u001B[0m\n\u001B[0;32m      3\u001B[0m \u001B[1;33m\u001B[0m\u001B[0m\n",
      "\u001B[1;31mTypeError\u001B[0m: plot() missing 2 required positional arguments: 'ax_data' and 'ax_residuals'"
     ]
    }
   ],
   "source": [
    "fig, ax = model.current_scan.plot()\n",
    "plt.show()"
   ],
   "metadata": {
    "collapsed": false,
    "pycharm": {
     "name": "#%%\n"
    }
   }
  },
  {
   "cell_type": "code",
   "execution_count": null,
   "metadata": {
    "pycharm": {
     "name": "#%%\n"
    }
   },
   "outputs": [],
   "source": [
    "    # def _find_row_of_bottom_config_info(self,filename) -> int:\n",
    "    #     \"\"\"\n",
    "    #     Helper function - find the row number after the samples\n",
    "    #     :param filename:\n",
    "    #     :return: the row number\n",
    "    #     :raise: IOError - if the line could not be found\n",
    "    #     \"\"\"\n",
    "    #\n",
    "    #     f = open(filename, 'r')\n",
    "    #     count = 0\n",
    "    #     while True:\n",
    "    #         line = f.readline()\n",
    "    #         if not line:\n",
    "    #             raise IOError(\"Run config info could not be found\")\n",
    "    #         line = line.strip()\n",
    "    #\n",
    "    #         # Look for the row \"Scan Up Time(s)\". Scan Up is sufficient\n",
    "    #         if line.startswith(\"Scan Up\"):\n",
    "    #             bottom_config_rownum = count-1\n",
    "    #             break\n",
    "    #         count += 1\n",
    "    #     f.close()\n",
    "    #     return bottom_config_rownum\n",
    "\n",
    "        # # Now, read the bottom config info\n",
    "        # skip_rows = self._find_row_of_bottom_config_info(filename)\n",
    "        # display(\"Skipping \" + str(skip_rows))\n",
    "        # df_dma_info = pd.read_csv(filename,\n",
    "        #                  header=None,\n",
    "        #                  sep='\\t',\n",
    "        #                  index_col=0,\n",
    "        #                  nrows=skip_rows)\n",
    "        # display(df_dma_info)\n"
   ]
  },
  {
   "cell_type": "code",
   "execution_count": null,
   "metadata": {
    "pycharm": {
     "name": "#%%\n"
    }
   },
   "outputs": [],
   "source": []
  },
  {
   "cell_type": "code",
   "execution_count": null,
   "metadata": {
    "pycharm": {
     "name": "#%%\n"
    }
   },
   "outputs": [],
   "source": []
  }
 ],
 "metadata": {
  "kernelspec": {
   "display_name": "PyCharm (HTDMA)",
   "language": "python",
   "name": "pycharm-4a0ea780"
  },
  "language_info": {
   "codemirror_mode": {
    "name": "ipython",
    "version": 3
   },
   "file_extension": ".py",
   "mimetype": "text/x-python",
   "name": "python",
   "nbconvert_exporter": "python",
   "pygments_lexer": "ipython3",
   "version": "3.8.10"
  }
 },
 "nbformat": 4,
 "nbformat_minor": 1
}