{
 "cells": [
  {
   "cell_type": "markdown",
   "metadata": {
    "pycharm": {
     "name": "#%% md\n"
    }
   },
   "source": [
    "## TSI TDMA output file configuration\n",
    "\n",
    "**lines 1-18 : DMA standard configuration and experimental settings**\n",
    "\n",
    "This is general DMA information, including model info\n",
    "- 0\tSample File\tP:\\aerosols\\private\\Bret Hatzinger\\Summer Work 2021\\Internal Mixtures\\0.1gL AmmSulf_Sucrose Internal Mix (6_7_21)\\0.1gL AmmSulf_Sucrose Internal Mix (6_7_21).S80\n",
    "- 1\tClassifier Model\t3080\n",
    "- 2\tDMA Model\t3081\n",
    "- 3\t**DMA Inner Radius(cm)**\t0.00937\n",
    "- 4\t**DMA Outer Radius(cm)**\t0.01961\n",
    "- 5\t**DMA Characteristic Length(cm)**\t0.44369\n",
    "- 6\tCPC Model\t3776 Low Flow\n",
    "- 7\t**Reference Gas Viscosity (Pa*s)**\t1.83E-05\n",
    "- 8\t**Reference Mean Free Path (m)**\t6.73E-08\n",
    "- 9\t**Reference Gas Temperature (K)**\t296.15\n",
    "- 10\t**Reference Gas Pressure (kPa)**\t101.3\n",
    "- 11\tChannels/Decade\t64\n",
    "- 12\tMultiple Charge Correction\tTRUE\n",
    "- 13\tNanoparticle Aggregate Mobility Analysis\tFALSE\n",
    "- 14\tDiffusion Correction\tTRUE\n",
    "- 15\t**Gas Density**\t0.0012\n",
    "- 16\tUnits\tdw/dlogDp\n",
    "- 17\tWeight\tNumber\n",
    "\n",
    "**lines 19-126 : Actual data collected for multiple scans**\n",
    "- each row represents a dp midpoint value for the scan\n",
    "- the value represents the cpc counts for that bin\n",
    "\n",
    "Here are what the first several rows look like. The first three rows are the sample number and the time stamp for the scan. The fourth row is just a label for the remaining first column\n",
    "\n",
    "- 18\tSample #\t1\n",
    "- 19\tDate\t6/7/21\n",
    "- 20\tStart Time\t14:16:57\n",
    "- 21\tDiameter Midpoint\n",
    "- 22\t8.2\t1.39E+06\n",
    "- 23\t8.51\t931386\n",
    "- 24\t8.82\t418658\n",
    "- 25\t9.14\t582892\n",
    "\n",
    "**lines 127-151 : More experiment settings**\n",
    "\n",
    "The following are settings for the scanning DMA.\n",
    "\n",
    "- 126\t**Scan Up Time(s)**\t120\n",
    "- 127\t**Retrace Time(s)**\t15\n",
    "- 128\tDown Scan First\tFALSE\n",
    "- 129\tScans Per Sample\t1\n",
    "- 130\tImpactor Type(cm)\t0.071\n",
    "- 131\t**Sheath Flow(lpm)**\t7.99998\n",
    "- 132\t**Aerosol Flow(lpm)**\t0.3\n",
    "- 133\t**CPC Inlet Flow(lpm)**\t0.3\n",
    "- 134\tCPC Sample Flow(lpm)\t0.05\n",
    "- 135\t**Low Voltage**\t10.0272\n",
    "- 136\t**High Voltage**\t9530.41\n",
    "- 137\t**Lower Size(nm)**\t8.05842\n",
    "- 138\t**Upper Size(nm)**\t339.821\n",
    "- 139\tDensity(g/cc)\t1\n",
    "- 140\tTitle\n",
    "- 141\t**Status Flag**\tNormal Scan\n",
    "- 142\ttd(s)\t4.3\n",
    "- 143\ttf(s)\t2.99021\n",
    "- 144\tD50(nm)\t1415.69\n",
    "- 145\tMedian(nm)\t33.4426\n",
    "- 146\tMean(nm)\t39.529\n",
    "- 147\tGeo. Mean(nm)\t32.317\n",
    "- 148\tMode(nm)\t35.8664\n",
    "- 149\tGeo. Std. Dev.\t1.90518\n",
    "- 150\tTotal Concentration(#/cm≥)\t1.86E+06"
   ]
  },
  {
   "cell_type": "code",
   "execution_count": 1,
   "outputs": [],
   "source": [
    "import numpy as np\n",
    "import pandas as pd\n",
    "import scipy\n",
    "import matplotlib as mpl\n",
    "import matplotlib.pyplot as plt\n",
    "import datetime\n",
    "import seaborn as sns\n",
    "import sys\n",
    "import os"
   ],
   "metadata": {
    "collapsed": false,
    "pycharm": {
     "name": "#%%\n"
    }
   }
  },
  {
   "cell_type": "code",
   "execution_count": 2,
   "outputs": [],
   "source": [
    "# Add the path where all python *packages* are located\n",
    "#sys.path.insert(1, '../code/model/')\n",
    "\n",
    "from htdma_code.model.model import Model"
   ],
   "metadata": {
    "collapsed": false,
    "pycharm": {
     "name": "#%%\n"
    }
   }
  },
  {
   "cell_type": "code",
   "execution_count": 3,
   "outputs": [
    {
     "name": "stdout",
     "output_type": "stream",
     "text": [
      "C:\\Users\\brk009\\Documents\\PycharmProjects\\HTDMA\\notebooks\n"
     ]
    }
   ],
   "source": [
    "#os.chdir(\"/Users/brk009/PycharmProjects/ChemicsCurveFit\")\n",
    "print(os.getcwd())\n"
   ],
   "metadata": {
    "collapsed": false,
    "pycharm": {
     "name": "#%%\n"
    }
   }
  },
  {
   "cell_type": "code",
   "execution_count": 23,
   "metadata": {
    "pycharm": {
     "name": "#%%\n"
    }
   },
   "outputs": [],
   "source": [
    "#filename = \"../data/0.1gL AmmSulf_Sucrose Internal Mix (6_7_21).txt\"\n",
    "#filename = \"../data/A-Pinene Carene 100.100.200ppb (7.14.txt\"\n",
    "#filename = \"../data/HTDMA 0.1gL AmmSulf200nmPSL Sample Peaks.txt\"\n",
    "#filename = \"../data/20220621 data/0.1gL 25 AS_75 SA.txt\"\n",
    "#filename = \"../data/20220621 data/0.1gL 50 AS_50 SA.txt\"\n",
    "filename = \"../data/ziheng/AS_80nm.txt\"\n",
    "#setup = model.Setup(filename)\n",
    "\n",
    "model = Model()\n",
    "model.process_new_file(filename)"
   ]
  },
  {
   "cell_type": "code",
   "execution_count": 24,
   "outputs": [
    {
     "name": "stdout",
     "output_type": "stream",
     "text": [
      "DMA:\n",
      "  r_in_cm: 0.937\n",
      "  r_out_cm: 1.961\n",
      "  length_cm: 44.369\n",
      "RunParams:\n",
      "  gas viscosity: 1.83245e-05\n",
      "  gas density: 0.0012\n",
      "  mean free path: 6.73e-08\n",
      "  temp (K): 296.15\n",
      "  pres (kPa): 101.3\n",
      "  rh (%): 85.0\n",
      "scan #: 1\n",
      "scan up (sec): 120.0\n",
      "scan down (sec): 15.0\n",
      "low V: 10.0272\n",
      "high V: 9530.44\n",
      "low dp: 8.05842\n",
      "high dp: 339.821\n",
      "q_sh_lpm (lpm): 8.0\n",
      "q_aIn_lpm (polydisperse) (lpm): 0.3\n",
      "q_aOut_lpm (monodisperse) (lpm): 0.3\n",
      "total conc: 187.662\n",
      "STATUS: Normal Scan\n",
      "\n"
     ]
    }
   ],
   "source": [
    "print(model.setup)"
   ],
   "metadata": {
    "collapsed": false,
    "pycharm": {
     "name": "#%%\n"
    }
   }
  },
  {
   "cell_type": "code",
   "execution_count": 25,
   "metadata": {
    "pycharm": {
     "name": "#%%\n"
    }
   },
   "outputs": [
    {
     "name": "stdout",
     "output_type": "stream",
     "text": [
      "Scans:\n",
      "  Index: Index(['Date', '8.20', '8.51', '8.82', '9.14', '9.47', '9.82', ' 10.2',\n",
      "       ' 10.6', ' 10.9',\n",
      "       ...\n",
      "       'Status Flag', 'td(s)', 'tf(s)', 'D50(nm)', 'Median(nm)', 'Mean(nm)',\n",
      "       'Geo. Mean(nm)', 'Mode(nm)', 'Geo. Std. Dev.', 'Total Concentration'],\n",
      "      dtype='object', name='Sample #', length=130)\n",
      "  Columns: Index(['1', '2', '3', '4', '5', '6'], dtype='object')\n",
      "  Num Rows: 130\n",
      "  Num Cols: 6\n",
      "  Num dp values: 104\n",
      "\n"
     ]
    }
   ],
   "source": [
    "print(model.scans)"
   ]
  },
  {
   "cell_type": "markdown",
   "metadata": {
    "pycharm": {
     "name": "#%% md\n"
    }
   },
   "source": [
    "---\n",
    "# DMA 1"
   ]
  },
  {
   "cell_type": "code",
   "execution_count": 26,
   "outputs": [
    {
     "name": "stdout",
     "output_type": "stream",
     "text": [
      "q_sh_lineedit = 8.0 lpm 133.33 cm3/sec\n",
      "q_aIn_lineedit = 0.3 lpm 0.30 cm3/sec\n",
      "q_aOut_lineedit = 0.3 lpm 0.30 cm3/sec\n",
      "q_excess_lineedit = 8.0 lpm 133.33 cm3/sec\n",
      "gas viscosity = 0.0001832 Poise\n",
      "mean free path = 67.300 nm\n",
      "Voltage = 5000.0 V\n",
      "dp 231.3 nm\n",
      "WILL USE:\n",
      "dma1 length: 44.369 cm\n",
      "dma1 radius In 0.937 cm\n",
      "dma1 radius Out 1.961 cm\n",
      "\n"
     ]
    }
   ],
   "source": [
    "print(model.dma1)"
   ],
   "metadata": {
    "collapsed": false,
    "pycharm": {
     "name": "#%%\n"
    }
   }
  },
  {
   "cell_type": "code",
   "execution_count": 27,
   "outputs": [
    {
     "name": "stdout",
     "output_type": "stream",
     "text": [
      "q_sh_lineedit = 8.0 lpm 133.33 cm3/sec\n",
      "q_aIn_lineedit = 0.3 lpm 0.30 cm3/sec\n",
      "q_aOut_lineedit = 0.3 lpm 0.30 cm3/sec\n",
      "q_excess_lineedit = 8.0 lpm 133.33 cm3/sec\n",
      "gas viscosity = 0.0001832 Poise\n",
      "mean free path = 67.300 nm\n",
      "Voltage = 5000.0 V\n",
      "dp 231.3 nm\n",
      "WILL USE:\n",
      "dma1 length: 44.369 cm\n",
      "dma1 radius In 0.937 cm\n",
      "dma1 radius Out 1.961 cm\n",
      "\n"
     ]
    }
   ],
   "source": [
    "# Example of working with a DMA_1 object\n",
    "\n",
    "model.dma1.update_voltage(5000)\n",
    "print(model.dma1)"
   ],
   "metadata": {
    "collapsed": false,
    "pycharm": {
     "name": "#%%\n"
    }
   }
  },
  {
   "cell_type": "code",
   "execution_count": 28,
   "outputs": [
    {
     "name": "stdout",
     "output_type": "stream",
     "text": [
      "dp = 231.3\n"
     ]
    }
   ],
   "source": [
    "# When update is called, a new dp center and fwhh is computed\n",
    "\n",
    "print(\"dp = {:.1f}\".format(model.dma1.dp_dist_center))"
   ],
   "metadata": {
    "collapsed": false,
    "pycharm": {
     "name": "#%%\n"
    }
   }
  },
  {
   "cell_type": "code",
   "execution_count": 29,
   "outputs": [
    {
     "data": {
      "text/plain": "<Figure size 576x432 with 1 Axes>",
      "image/png": "[encoded data removed]"
     },
     "metadata": {},
     "output_type": "display_data"
    }
   ],
   "source": [
    "fig = plt.figure(figsize=(8, 6))\n",
    "ax = plt.axes()\n",
    "plt.style.use('seaborn-whitegrid')\n",
    "\n",
    "model.dma1.plot(ax)\n",
    "plt.show()"
   ],
   "metadata": {
    "collapsed": false,
    "pycharm": {
     "name": "#%%\n"
    }
   }
  },
  {
   "cell_type": "markdown",
   "source": [
    "---\n",
    "# DMA 2\n",
    "\n",
    "## Working with one scan"
   ],
   "metadata": {
    "collapsed": false,
    "pycharm": {
     "name": "#%% md\n"
    }
   }
  },
  {
   "cell_type": "code",
   "execution_count": 30,
   "outputs": [
    {
     "name": "stdout",
     "output_type": "stream",
     "text": [
      "current scan updated in model\n"
     ]
    }
   ],
   "source": [
    "# let's grab one sample from the file\n",
    "\n",
    "# sample_num represents the sample in the dataframe of all samples we'll extract\n",
    "scan_column = 1\n",
    "\n",
    "result = model.select_scan(scan_column)\n",
    "if result is False:\n",
    "    print(\"WOAH - bad scan_column value!\")\n",
    "else:\n",
    "    print(\"current scan updated in model\")"
   ],
   "metadata": {
    "collapsed": false,
    "pycharm": {
     "name": "#%%\n"
    }
   }
  },
  {
   "cell_type": "markdown",
   "metadata": {
    "pycharm": {
     "name": "#%% md\n"
    }
   },
   "source": [
    "### Graphing a single scan\n",
    "\n",
    "You'll notice that the data is very skewed when you do not properly map to logspace\n",
    "\n"
   ]
  },
  {
   "cell_type": "code",
   "execution_count": 31,
   "outputs": [
    {
     "data": {
      "text/plain": "<Figure size 720x432 with 1 Axes>",
      "image/png": "[encoded data removed]"
     },
     "metadata": {},
     "output_type": "display_data"
    }
   ],
   "source": [
    "fig = plt.figure(figsize=(10,6))\n",
    "ax = plt.axes()\n",
    "ax.bar(x=model.current_scan.get_dp_range(),\n",
    "       height=model.current_scan.get_values(),\n",
    "       fill=True)\n",
    "ax.set_xlim(5,800)\n",
    "\n",
    "plt.title(\"SMPS particle concentration (linear space)\")\n",
    "plt.show()\n"
   ],
   "metadata": {
    "collapsed": false,
    "pycharm": {
     "name": "#%%\n"
    }
   }
  },
  {
   "cell_type": "markdown",
   "metadata": {
    "pycharm": {
     "name": "#%% md\n"
    }
   },
   "source": [
    "Now, let's replot in log space"
   ]
  },
  {
   "cell_type": "code",
   "execution_count": 32,
   "metadata": {
    "pycharm": {
     "name": "#%%\n"
    }
   },
   "outputs": [
    {
     "data": {
      "text/plain": "<Figure size 720x432 with 1 Axes>",
      "image/png": "[encoded data removed]"
     },
     "metadata": {},
     "output_type": "display_data"
    }
   ],
   "source": [
    "# Let's redo that, but plot in log space\n",
    "\n",
    "fig = plt.figure(figsize=(10,6))\n",
    "ax = plt.axes()\n",
    "ax.set_xscale('log')\n",
    "ax.bar(x=model.current_scan.get_dp_range(),\n",
    "       height=model.current_scan.get_values(),\n",
    "       #width=1,\n",
    "       fill=True)\n",
    "ax.set_xlim(8,800)\n",
    "\n",
    "plt.title(\"SMPS particle concentration (log space)\")\n",
    "plt.show()"
   ]
  },
  {
   "cell_type": "code",
   "execution_count": 33,
   "metadata": {
    "pycharm": {
     "name": "#%%\n"
    }
   },
   "outputs": [
    {
     "data": {
      "text/plain": "<Figure size 720x432 with 1 Axes>",
      "image/png": "[encoded data removed]"
     },
     "metadata": {},
     "output_type": "display_data"
    }
   ],
   "source": [
    "# Plot as a line\n",
    "fig = plt.figure(figsize=(10,6))\n",
    "ax = plt.axes()\n",
    "\n",
    "ax.set_xscale('log')\n",
    "ax.plot(model.current_scan.get_dp_range(),\n",
    "        model.current_scan.get_values())\n",
    "plt.show()"
   ]
  },
  {
   "cell_type": "markdown",
   "metadata": {
    "pycharm": {
     "name": "#%% md\n"
    }
   },
   "source": [
    "---\n",
    "# Curve Fit\n",
    "\n",
    "Let's recall the standard normal distribution as defined by the quintessential probability density function:\n",
    "- https://en.wikipedia.org/wiki/Normal_distribution\n",
    "\n",
    "- $f(x) = \\frac{1}{\\sigma \\sqrt{2 \\pi}}e^{-\\frac{1}{2}(\\frac{x - \\mu}{\\sigma})^2}$\n",
    "\n",
    "I'm following lots of ideas online of basic gaussian curve fits\n",
    "\n",
    "- http://www.emilygraceripka.com/blog/16\n"
   ]
  },
  {
   "cell_type": "markdown",
   "metadata": {
    "pycharm": {
     "name": "#%% md\n"
    }
   },
   "source": [
    "The scipy package has a decent curve fit function.\n",
    "\n",
    "- https://docs.scipy.org/doc/scipy/reference/generated/scipy.optimize.curve_fit.html#scipy.optimize.curve_fit\n"
   ]
  },
  {
   "cell_type": "code",
   "execution_count": 35,
   "metadata": {
    "pycharm": {
     "name": "#%%\n"
    }
   },
   "outputs": [],
   "source": [
    "num_peaks = 1"
   ]
  },
  {
   "cell_type": "code",
   "execution_count": 36,
   "outputs": [],
   "source": [
    "from htdma_code.model.scan import calc_moving_ave\n",
    "\n",
    "xdata = model.current_scan.get_log_dp_range()\n",
    "ydata = model.current_scan._y_filtered\n",
    "ydata_smoothed = calc_moving_ave(ydata,3)\n"
   ],
   "metadata": {
    "collapsed": false,
    "pycharm": {
     "name": "#%%\n"
    }
   }
  },
  {
   "cell_type": "code",
   "execution_count": 37,
   "outputs": [
    {
     "data": {
      "text/plain": "array([   0.    ,    0.    ,    0.    ,    0.    ,    0.    ,    0.    ,\n          0.    ,    0.    ,    0.    ,    0.    ,    0.    ,    0.    ,\n          0.    ,    0.    ,    0.    ,    0.    ,    0.    ,    0.    ,\n          0.    ,    0.    ,    0.    ,    0.    ,    0.    ,    0.    ,\n          0.    ,    0.    ,    0.    ,    0.    ,    0.    ,    0.    ,\n          0.    ,    0.    ,    0.    ,    0.    ,    0.    ,    0.    ,\n          0.    ,    0.    ,    0.    ,    0.    ,    0.    ,    0.    ,\n          0.    ,    0.    ,    0.    ,    0.    ,    0.    ,    0.    ,\n          0.    ,    0.    ,    0.    ,    0.    ,    0.    ,    0.    ,\n          0.    ,    0.    ,    0.    ,    0.    ,    0.    ,    0.    ,\n          0.    ,    0.    ,  938.748 , 7654.12  , 4790.06  , 3790.15  ,\n       1436.23  ,  190.8   ,   94.9351,   94.4743,    0.    ,    0.    ,\n          0.    ,    0.    ,    0.    ,    0.    ,    0.    ,    0.    ,\n          0.    ,    0.    ,    0.    ,    0.    ,    0.    ,    0.    ,\n          0.    ,    0.    ,    0.    ,    0.    ,    0.    ,    0.    ,\n          0.    ,    0.    ,    0.    ,    0.    ,    0.    ,    0.    ,\n          0.    ,    0.    ,    0.    ,    0.    ,    0.    ,    0.    ,\n          0.    ,    0.    ])"
     },
     "execution_count": 37,
     "metadata": {},
     "output_type": "execute_result"
    }
   ],
   "source": [
    "ydata"
   ],
   "metadata": {
    "collapsed": false,
    "pycharm": {
     "name": "#%%\n"
    }
   }
  },
  {
   "cell_type": "code",
   "execution_count": 43,
   "outputs": [
    {
     "data": {
      "text/plain": "<matplotlib.collections.PathCollection at 0x1f560ccfa00>"
     },
     "execution_count": 43,
     "metadata": {},
     "output_type": "execute_result"
    },
    {
     "data": {
      "text/plain": "<Figure size 432x288 with 1 Axes>",
      "image/png": "[encoded data removed]"
     },
     "metadata": {},
     "output_type": "display_data"
    }
   ],
   "source": [
    "plt.scatter(xdata,ydata)"
   ],
   "metadata": {
    "collapsed": false,
    "pycharm": {
     "name": "#%%\n"
    }
   }
  },
  {
   "cell_type": "code",
   "execution_count": 51,
   "outputs": [
    {
     "data": {
      "text/plain": "array([64], dtype=int64)"
     },
     "execution_count": 51,
     "metadata": {},
     "output_type": "execute_result"
    }
   ],
   "source": [
    "import scipy.signal\n",
    "\n",
    "#i_pk = scipy.signal.find_peaks_cwt(ydata,widths=range(3,10))\n",
    "i_pk, _ = scipy.signal.find_peaks(ydata_smoothed,\n",
    "                                  # Vertical distance of the peak to neighbor samples\n",
    "                                  threshold=(0,(ydata.max()-ydata.min())/2),\n",
    "                                  # distance to neighbor peaks in samples\n",
    "                                  distance=10,\n",
    "                                  # width of the peak in samples\n",
    "                                  width=1,\n",
    "                                  # Relative height at which width is measured as a percentage of\n",
    "                                  # its prominence\n",
    "                                  rel_height=0.2,\n",
    "                                  # prominence of the peak\n",
    "                                  # - how much a peak stands out from the surrounding baseline\n",
    "                                  #   of the signal and is defined as the vertical distance between\n",
    "                                  #   the peak and its lowest contour line\n",
    "                                  prominence=((ydata.max() - ydata.min()) / 10,\n",
    "                                              (ydata.max() - ydata.min()))\n",
    "                                  )\n",
    "i_pk"
   ],
   "metadata": {
    "collapsed": false,
    "pycharm": {
     "name": "#%%\n"
    }
   }
  },
  {
   "cell_type": "code",
   "execution_count": 52,
   "outputs": [
    {
     "data": {
      "text/plain": "[64]"
     },
     "execution_count": 52,
     "metadata": {},
     "output_type": "execute_result"
    }
   ],
   "source": [
    "sorted(i_pk,key=lambda x: ydata[x],reverse=True)"
   ],
   "metadata": {
    "collapsed": false,
    "pycharm": {
     "name": "#%%\n"
    }
   }
  },
  {
   "cell_type": "code",
   "execution_count": 53,
   "outputs": [
    {
     "data": {
      "text/plain": "<matplotlib.collections.PathCollection at 0x1f5620a71f0>"
     },
     "execution_count": 53,
     "metadata": {},
     "output_type": "execute_result"
    },
    {
     "data": {
      "text/plain": "<Figure size 432x288 with 1 Axes>",
      "image/png": "[encoded data removed]"
     },
     "metadata": {},
     "output_type": "display_data"
    }
   ],
   "source": [
    "fig, ax = plt.subplots()\n",
    "ax.plot(xdata,ydata)\n",
    "ax.scatter(xdata[i_pk],ydata[i_pk],c='r')\n"
   ],
   "metadata": {
    "collapsed": false,
    "pycharm": {
     "name": "#%%\n"
    }
   }
  },
  {
   "cell_type": "code",
   "execution_count": 54,
   "outputs": [
    {
     "name": "stdout",
     "output_type": "stream",
     "text": [
      "Starting fit\n",
      "xdata.shape = (104,)\n",
      "ydata.shape = (104,)\n",
      "xdata_width = 3.7064078569575276\n",
      "find_peaks found 0 peaks\n"
     ]
    },
    {
     "ename": "UnboundLocalError",
     "evalue": "local variable 'fit_func' referenced before assignment",
     "output_type": "error",
     "traceback": [
      "\u001B[1;31m---------------------------------------------------------------------------\u001B[0m",
      "\u001B[1;31mUnboundLocalError\u001B[0m                         Traceback (most recent call last)",
      "Input \u001B[1;32mIn [54]\u001B[0m, in \u001B[0;36m<cell line: 3>\u001B[1;34m()\u001B[0m\n\u001B[0;32m      1\u001B[0m \u001B[38;5;28;01mfrom\u001B[39;00m \u001B[38;5;21;01mhtdma_code\u001B[39;00m\u001B[38;5;21;01m.\u001B[39;00m\u001B[38;5;21;01mview\u001B[39;00m\u001B[38;5;21;01m.\u001B[39;00m\u001B[38;5;21;01mplot_utils\u001B[39;00m \u001B[38;5;28;01mimport\u001B[39;00m plot_scan_and_residuals\n\u001B[1;32m----> 3\u001B[0m \u001B[43mmodel\u001B[49m\u001B[38;5;241;43m.\u001B[39;49m\u001B[43mcurrent_scan\u001B[49m\u001B[38;5;241;43m.\u001B[39;49m\u001B[43mfit\u001B[49m\u001B[43m(\u001B[49m\u001B[43mnum_peaks_desired\u001B[49m\u001B[38;5;241;43m=\u001B[39;49m\u001B[43mnum_peaks\u001B[49m\u001B[43m,\u001B[49m\u001B[43mverbose\u001B[49m\u001B[38;5;241;43m=\u001B[39;49m\u001B[38;5;28;43;01mTrue\u001B[39;49;00m\u001B[43m,\u001B[49m\n\u001B[0;32m      4\u001B[0m \u001B[43m                       \u001B[49m\u001B[43mplot_steps\u001B[49m\u001B[43m \u001B[49m\u001B[38;5;241;43m=\u001B[39;49m\u001B[43m \u001B[49m\u001B[38;5;28;43;01mTrue\u001B[39;49;00m\u001B[43m,\u001B[49m\n\u001B[0;32m      5\u001B[0m \u001B[43m                       \u001B[49m\u001B[43mplot_func\u001B[49m\u001B[38;5;241;43m=\u001B[39;49m\u001B[43mplot_scan_and_residuals\u001B[49m\u001B[43m)\u001B[49m\n",
      "File \u001B[1;32m~\\Documents\\PycharmProjects\\HTDMA\\htdma_code\\model\\scan.py:350\u001B[0m, in \u001B[0;36mScan.fit\u001B[1;34m(self, num_peaks_desired, verbose, plot_steps, plot_func)\u001B[0m\n\u001B[0;32m    347\u001B[0m is_done \u001B[38;5;241m=\u001B[39m \u001B[38;5;28;01mFalse\u001B[39;00m\n\u001B[0;32m    348\u001B[0m \u001B[38;5;28;01mwhile\u001B[39;00m \u001B[38;5;129;01mnot\u001B[39;00m is_done:\n\u001B[1;32m--> 350\u001B[0m     fit_func \u001B[38;5;241m=\u001B[39m \u001B[43mget_gaussian_fit_func\u001B[49m\u001B[43m(\u001B[49m\u001B[43mnum_peaks_predicting\u001B[49m\u001B[43m)\u001B[49m\n\u001B[0;32m    352\u001B[0m     \u001B[38;5;28;01mif\u001B[39;00m verbose:\n\u001B[0;32m    353\u001B[0m         \u001B[38;5;28;01mfor\u001B[39;00m peak \u001B[38;5;129;01min\u001B[39;00m \u001B[38;5;28mrange\u001B[39m(num_peaks_predicting):\n",
      "File \u001B[1;32m~\\Documents\\PycharmProjects\\HTDMA\\htdma_code\\model\\scan.py:555\u001B[0m, in \u001B[0;36mget_gaussian_fit_func\u001B[1;34m(num_peaks)\u001B[0m\n\u001B[0;32m    553\u001B[0m \u001B[38;5;28;01melif\u001B[39;00m num_peaks \u001B[38;5;241m==\u001B[39m \u001B[38;5;241m5\u001B[39m:\n\u001B[0;32m    554\u001B[0m     fit_func \u001B[38;5;241m=\u001B[39m _5gaussian\n\u001B[1;32m--> 555\u001B[0m \u001B[38;5;28;01mreturn\u001B[39;00m \u001B[43mfit_func\u001B[49m\n",
      "\u001B[1;31mUnboundLocalError\u001B[0m: local variable 'fit_func' referenced before assignment"
     ]
    }
   ],
   "source": [
    "from htdma_code.view.plot_utils import plot_scan_and_residuals\n",
    "\n",
    "model.current_scan.fit(num_peaks_desired=num_peaks,verbose=True,\n",
    "                       plot_steps = True,\n",
    "                       plot_func=plot_scan_and_residuals)\n",
    "#plt.show()"
   ],
   "metadata": {
    "collapsed": false,
    "pycharm": {
     "name": "#%%\n"
    }
   }
  },
  {
   "cell_type": "markdown",
   "source": [
    "## Study of residuals\n",
    "\n",
    "Clearly, the residual plot can be used to help identify whether there is a subtle shoulder."
   ],
   "metadata": {
    "collapsed": false,
    "pycharm": {
     "name": "#%% md\n"
    }
   }
  },
  {
   "cell_type": "code",
   "execution_count": 28,
   "outputs": [
    {
     "data": {
      "text/plain": "[48]"
     },
     "metadata": {},
     "output_type": "display_data"
    },
    {
     "data": {
      "text/plain": "{'left_thresholds': array([2161.88320851]),\n 'right_thresholds': array([1514.51846027]),\n 'prominences': array([34751.67807313]),\n 'left_bases': array([37], dtype=int64),\n 'right_bases': array([59], dtype=int64),\n 'widths': array([4.94780255]),\n 'width_heights': array([15422.89839556]),\n 'left_ips': array([45.59887281]),\n 'right_ips': array([50.54667536])}"
     },
     "metadata": {},
     "output_type": "display_data"
    }
   ],
   "source": [
    "from htdma_code.model.scan import predict_peaks\n",
    "\n",
    "ydata = model.current_scan.total_fit_result.residuals_smoothed\n",
    "\n",
    "# i_pk = predict_peaks(model.current_scan.total_fit_result.residuals,is_scan=False)\n",
    "\n",
    "ydata = np.multiply(ydata,-1.0)\n",
    "# ydata = np.convolve(ydata,np.ones(3),'valid')/3\n",
    "# ydata = np.append([0],ydata)\n",
    "# ydata = np.append(ydata,[0])\n",
    "\n",
    "i_pk, other = scipy.signal.find_peaks(ydata,\n",
    "                                  threshold=(0,(ydata.max()-ydata.min())/4),  # Vertical distance to neighbor samples- we want it close!\n",
    "                                  distance=10, # distance to neighbor peaks\n",
    "                                  width=3, # width of the peak in samples\n",
    "                                  rel_height = 0.2,\n",
    "        prominence = ((ydata.max() - ydata.min()) / 20,\n",
    "                      (ydata.max() - ydata.min()))\n",
    "                                      )\n",
    "\n",
    "i_pk = sorted(i_pk, key=lambda x: ydata[x],reverse=True)\n",
    "ydata = model.current_scan.total_fit_result.residuals\n",
    "\n",
    "display(i_pk)\n",
    "display(other)"
   ],
   "metadata": {
    "collapsed": false,
    "pycharm": {
     "name": "#%%\n"
    }
   }
  },
  {
   "cell_type": "code",
   "execution_count": 29,
   "outputs": [
    {
     "data": {
      "text/plain": "<matplotlib.collections.PathCollection at 0x1e899951bb0>"
     },
     "execution_count": 29,
     "metadata": {},
     "output_type": "execute_result"
    },
    {
     "data": {
      "text/plain": "<Figure size 432x288 with 1 Axes>",
      "image/png": "[encoded data removed]"
     },
     "metadata": {},
     "output_type": "display_data"
    }
   ],
   "source": [
    "fig, ax = plt.subplots()\n",
    "ax.plot(xdata,ydata)\n",
    "ax.scatter(xdata[i_pk],ydata[i_pk],c='r')"
   ],
   "metadata": {
    "collapsed": false,
    "pycharm": {
     "name": "#%%\n"
    }
   }
  },
  {
   "cell_type": "markdown",
   "source": [
    "---\n",
    "\n",
    "# TODO\n",
    "\n",
    "I think I have a good fit algorithm. Look at the narrow peak RMSE value I created in scan.py inside the fit....\n",
    "\n",
    "This is basically choosing to compute RMSE only +/- 1 s.d. around each peak mean\n",
    "\n",
    "---"
   ],
   "metadata": {
    "collapsed": false,
    "pycharm": {
     "name": "#%% md\n"
    }
   }
  },
  {
   "cell_type": "code",
   "execution_count": 25,
   "outputs": [
    {
     "name": "stdout",
     "output_type": "stream",
     "text": [
      "2\n"
     ]
    },
    {
     "data": {
      "text/plain": "array([ 87.20504968, 143.57599491])"
     },
     "execution_count": 25,
     "metadata": {},
     "output_type": "execute_result"
    }
   ],
   "source": [
    "model.current_scan.get_fit_peak_dp()"
   ],
   "metadata": {
    "collapsed": false,
    "pycharm": {
     "name": "#%%\n"
    }
   }
  },
  {
   "cell_type": "code",
   "execution_count": 36,
   "outputs": [
    {
     "ename": "TypeError",
     "evalue": "plot() missing 2 required positional arguments: 'ax_data' and 'ax_residuals'",
     "output_type": "error",
     "traceback": [
      "\u001B[1;31m---------------------------------------------------------------------------\u001B[0m",
      "\u001B[1;31mTypeError\u001B[0m                                 Traceback (most recent call last)",
      "\u001B[1;32m<ipython-input-36-ad61c8b4e967>\u001B[0m in \u001B[0;36m<module>\u001B[1;34m\u001B[0m\n\u001B[1;32m----> 1\u001B[1;33m \u001B[0mfig\u001B[0m\u001B[1;33m,\u001B[0m \u001B[0max\u001B[0m \u001B[1;33m=\u001B[0m \u001B[0mmodel\u001B[0m\u001B[1;33m.\u001B[0m\u001B[0mcurrent_scan\u001B[0m\u001B[1;33m.\u001B[0m\u001B[0mplot\u001B[0m\u001B[1;33m(\u001B[0m\u001B[1;33m)\u001B[0m\u001B[1;33m\u001B[0m\u001B[1;33m\u001B[0m\u001B[0m\n\u001B[0m\u001B[0;32m      2\u001B[0m \u001B[0mplt\u001B[0m\u001B[1;33m.\u001B[0m\u001B[0mshow\u001B[0m\u001B[1;33m(\u001B[0m\u001B[1;33m)\u001B[0m\u001B[1;33m\u001B[0m\u001B[1;33m\u001B[0m\u001B[0m\n\u001B[0;32m      3\u001B[0m \u001B[1;33m\u001B[0m\u001B[0m\n",
      "\u001B[1;31mTypeError\u001B[0m: plot() missing 2 required positional arguments: 'ax_data' and 'ax_residuals'"
     ]
    }
   ],
   "source": [
    "fig, ax = model.current_scan.plot()\n",
    "plt.show()"
   ],
   "metadata": {
    "collapsed": false,
    "pycharm": {
     "name": "#%%\n"
    }
   }
  },
  {
   "cell_type": "code",
   "execution_count": null,
   "metadata": {
    "pycharm": {
     "name": "#%%\n"
    }
   },
   "outputs": [],
   "source": [
    "    # def _find_row_of_bottom_config_info(self,filename) -> int:\n",
    "    #     \"\"\"\n",
    "    #     Helper function - find the row number after the samples\n",
    "    #     :param filename:\n",
    "    #     :return: the row number\n",
    "    #     :raise: IOError - if the line could not be found\n",
    "    #     \"\"\"\n",
    "    #\n",
    "    #     f = open(filename, 'r')\n",
    "    #     count = 0\n",
    "    #     while True:\n",
    "    #         line = f.readline()\n",
    "    #         if not line:\n",
    "    #             raise IOError(\"Run config info could not be found\")\n",
    "    #         line = line.strip()\n",
    "    #\n",
    "    #         # Look for the row \"Scan Up Time(s)\". Scan Up is sufficient\n",
    "    #         if line.startswith(\"Scan Up\"):\n",
    "    #             bottom_config_rownum = count-1\n",
    "    #             break\n",
    "    #         count += 1\n",
    "    #     f.close()\n",
    "    #     return bottom_config_rownum\n",
    "\n",
    "        # # Now, read the bottom config info\n",
    "        # skip_rows = self._find_row_of_bottom_config_info(filename)\n",
    "        # display(\"Skipping \" + str(skip_rows))\n",
    "        # df_dma_info = pd.read_csv(filename,\n",
    "        #                  header=None,\n",
    "        #                  sep='\\t',\n",
    "        #                  index_col=0,\n",
    "        #                  nrows=skip_rows)\n",
    "        # display(df_dma_info)\n"
   ]
  },
  {
   "cell_type": "code",
   "execution_count": null,
   "metadata": {
    "pycharm": {
     "name": "#%%\n"
    }
   },
   "outputs": [],
   "source": []
  },
  {
   "cell_type": "code",
   "execution_count": null,
   "metadata": {
    "pycharm": {
     "name": "#%%\n"
    }
   },
   "outputs": [],
   "source": []
  }
 ],
 "metadata": {
  "kernelspec": {
   "display_name": "PyCharm (HTDMA)",
   "language": "python",
   "name": "pycharm-4a0ea780"
  },
  "language_info": {
   "codemirror_mode": {
    "name": "ipython",
    "version": 3
   },
   "file_extension": ".py",
   "mimetype": "text/x-python",
   "name": "python",
   "nbconvert_exporter": "python",
   "pygments_lexer": "ipython3",
   "version": "3.8.10"
  }
 },
 "nbformat": 4,
 "nbformat_minor": 1
}